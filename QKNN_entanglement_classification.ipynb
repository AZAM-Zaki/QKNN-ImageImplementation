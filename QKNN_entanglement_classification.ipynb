{
  "nbformat": 4,
  "nbformat_minor": 0,
  "metadata": {
    "colab": {
      "name": "QKNN entanglement classification.ipynb",
      "provenance": [],
      "collapsed_sections": [
        "4lTXn8vlWWT4",
        "2D6_frS8D5ZA",
        "0_XDf2mVarPm",
        "R2k9jSDkyAZL",
        "z_lwtTf3NjFP",
        "T1XZqPndwwVM"
      ],
      "machine_shape": "hm"
    },
    "kernelspec": {
      "name": "python3",
      "display_name": "Python 3"
    }
  },
  "cells": [
    {
      "cell_type": "markdown",
      "metadata": {
        "id": "1OY-p2txGHUj",
        "colab_type": "text"
      },
      "source": [
        "# Importing packages"
      ]
    },
    {
      "cell_type": "code",
      "metadata": {
        "id": "9EMVN6_tzpPx",
        "colab_type": "code",
        "colab": {}
      },
      "source": [
        "import numpy as np\n",
        "import math\n",
        "from scipy.linalg import hadamard\n",
        "import statistics as st\n",
        "import operator\n",
        "from scipy.sparse import csr_matrix\n",
        "from sklearn.metrics import accuracy_score\n",
        "import time\n",
        "from scipy.stats import unitary_group\n",
        "from sklearn.metrics import confusion_matrix\n",
        "import pandas as pd\n",
        "from sklearn.neighbors import KNeighborsClassifier\n",
        "import matplotlib.pyplot as plt"
      ],
      "execution_count": 0,
      "outputs": []
    },
    {
      "cell_type": "markdown",
      "metadata": {
        "id": "IkKs4OrBGc7D",
        "colab_type": "text"
      },
      "source": [
        "# Required functions\n",
        "Here we define the functions that are necessary for our simulations"
      ]
    },
    {
      "cell_type": "code",
      "metadata": {
        "id": "bYO_Oc1-9ulA",
        "colab_type": "code",
        "colab": {}
      },
      "source": [
        "# This function generates the nth computational (standard) basis vector in the standard ordering.\n",
        "\n",
        "# 1. n: Index of the basis vectors.\n",
        "# 2. m: Number of qubits.\n",
        "\n",
        "def binvec(n, m):\n",
        "  ans = []\n",
        "  for i in range(2**m):\n",
        "    if i != n:\n",
        "      ans.append(0)\n",
        "    else:\n",
        "      ans.append(1)\n",
        "  ans = np.array(ans).reshape(2**m,1)\n",
        "  return ans"
      ],
      "execution_count": 0,
      "outputs": []
    },
    {
      "cell_type": "code",
      "metadata": {
        "id": "lfzPVnKa86Ku",
        "colab_type": "code",
        "colab": {}
      },
      "source": [
        "#Return a single qubit rotation matrix\n",
        "\n",
        "# 1. Theta: Angle of rotation\n",
        "\n",
        "def RotMatCreate(Theta):\n",
        "  \n",
        "  return(np.matrix([[math.cos(Theta), (-1 * math.sin(Theta))], [math.sin(Theta), math.cos(Theta)]]))"
      ],
      "execution_count": 0,
      "outputs": []
    },
    {
      "cell_type": "code",
      "metadata": {
        "id": "pv-7XHzg86p8",
        "colab_type": "code",
        "colab": {}
      },
      "source": [
        "#Return matrix that rotates about the z axis in Bloch sphere\n",
        "\n",
        "# 1. Theta: Angle of rotation\n",
        "\n",
        "def ZRot(Theta):\n",
        "  \n",
        "  return(np.matrix([[math.cos(Theta/2) - (1j * math.sin(Theta/2)), 0],[0, math.cos(Theta/2) + (1j * math.sin(Theta/2))]]))"
      ],
      "execution_count": 0,
      "outputs": []
    },
    {
      "cell_type": "code",
      "metadata": {
        "id": "CDTxZmF11mXs",
        "colab_type": "code",
        "colab": {}
      },
      "source": [
        "# This function generates separable pure states.\n",
        "\n",
        "# 1. QubitNo: Number of qubits\n",
        "# 2. IsDensity: Enter 0 if you want to return the state in normal vector form.\n",
        "#               Enter 1 if you want to return the flattedned density matrix of the state.\n",
        "#               Enter 2 if you want to return both vector and flatted density forms.\n",
        "\n",
        "def GenSepState(QubitNo, IsDensity):\n",
        "  \n",
        "  FinalState = np.matrix([[1]])\n",
        "    \n",
        "  for i in range(QubitNo):\n",
        "    FinalState = np.kron(FinalState,(2*np.random.random([2,1])-1 + 2j*np.random.random([2,1])-1))    \n",
        "            \n",
        "  FinalState = FinalState/np.linalg.norm(FinalState)\n",
        "  if IsDensity == 1:\n",
        "    Rho = np.kron(FinalState,np.conj(FinalState.T))\n",
        "    Rho = Rho.reshape(len(Rho)**2,1)\n",
        "    return Rho\n",
        "  elif IsDensity == 2:\n",
        "    Rho = np.kron(FinalState,np.conj(FinalState.T))\n",
        "    Rho = Rho.reshape(len(Rho)**2,1)\n",
        "    return FinalState, Rho\n",
        "  return FinalState"
      ],
      "execution_count": 0,
      "outputs": []
    },
    {
      "cell_type": "code",
      "metadata": {
        "id": "XBz4TWQbVHXH",
        "colab_type": "code",
        "colab": {}
      },
      "source": [
        "# This function generates entangled pure states.\n",
        "\n",
        "# 1. QubitNo: Number of qubits.\n",
        "# 2. IsMaxEnt: Enter 1 if the state should be maximally entangled.\n",
        "# 3. IsDensity: Enter 0 if you want to return the state in normal vector form.\n",
        "#               Enter 1 if you want to return the flattedned density matrix of the state.\n",
        "#               Enter 2 if you want to return both vector and flatted density forms.\n",
        "\n",
        "def GenEntState(QubitNo, IsMaxEnt, IsDensity):\n",
        "  \n",
        "  if IsMaxEnt == 1:\n",
        "        \n",
        "    FinalState = np.zeros([2**QubitNo, 1])\n",
        "    FinalState[0,0] = 1\n",
        "    FinalState[-1,0] = 1\n",
        "    \n",
        "    RotMat = np.matrix([[1]])\n",
        "    Thetas = (2*math.pi) * np.random.random(QubitNo)\n",
        "    Phis = (math.pi) * np.random.random(QubitNo)\n",
        "    \n",
        "    Ry = [RotMatCreate(x/2) for x in Thetas]\n",
        "    Rz = [ZRot(y) for y in Phis]\n",
        "    MatY = np.matrix([[1]])\n",
        "    MatZ = np.matrix([[1]])\n",
        "    \n",
        "    for i in range(QubitNo):\n",
        "      MatY = np.kron(MatY, Ry[i])\n",
        "      MatZ = np.kron(MatZ, Rz[i])\n",
        "\n",
        "    FinalState = np.matmul(MatZ,np.matmul(MatY,FinalState))\n",
        "\n",
        "  else:\n",
        "        \n",
        "    Re = (2 * np.random.random([2**QubitNo,1])) - 1 \n",
        "    Im = (2 * np.random.random([2**QubitNo,1])) - 1\n",
        "    FinalState = Re + 1j*Im\n",
        "  \n",
        "        \n",
        "  FinalState = FinalState/np.linalg.norm(FinalState)\n",
        "  if IsDensity == 1:\n",
        "    Rho = np.kron(FinalState,np.conj(FinalState.T))\n",
        "    Rho = Rho.reshape(len(Rho)**2,1)\n",
        "    return Rho\n",
        "  elif IsDensity == 2:\n",
        "    Rho = np.kron(FinalState,np.conj(FinalState.T))\n",
        "    Rho = Rho.reshape(len(Rho)**2,1)\n",
        "    return FinalState, Rho\n",
        "  return(FinalState)"
      ],
      "execution_count": 0,
      "outputs": []
    },
    {
      "cell_type": "code",
      "metadata": {
        "id": "wFERno-Kz3Qc",
        "colab_type": "code",
        "colab": {}
      },
      "source": [
        "# This function can generate a pure state with any type of entanglement\n",
        "\n",
        "# 1. QubitNo: Number of qubits\n",
        "# 2. EntList: A list of lists denoting which qubits should be entangled. \n",
        "#    For example, if qubit 0 and qubit 3 should be entangled and qubit 1 and qubit 4 should be entangled, EnTList should be [[0, 3],[1, 4],[2]]\n",
        "# 3. IsMaxEntList: A list which denotes whether the required entangelements should be maximal or not. \n",
        "#    The length of the list should be same as length of EntList.\n",
        "#    For example, if EntList = [[0, 3], [1, 4], [2]] and you want qubit 1 and qubit 4 to be maximally entngled, then IsMaxEntList = [0,1,0].\n",
        "# 4. Isdensity: Enter 1 if you require the state to be returned as a flattened density matrix.\n",
        "\n",
        "def GenMultiEntState(QubitNo, EntList, IsMaxEntList, IsDensity):\n",
        "  \n",
        "  IniState = np.matrix([[1]])\n",
        "  \n",
        "  for i in range(len(EntList)):\n",
        "    \n",
        "    Temp = GenEntState(len(EntList[i]), IsMaxEntList[i], IsDensity = 0)\n",
        "    IniState = np.kron(IniState,Temp)  \n",
        "  \n",
        "  Index = list(range(1, QubitNo+1))\n",
        "  E = EntList[0]\n",
        "  \n",
        "  for p in range(len(EntList)):\n",
        "    k = 1\n",
        "    n = len(E)\n",
        "    ent = sorted(E)\n",
        "    for i in range(n,0,-1):\n",
        "      for j in range(i, ent[n-k]+1):\n",
        "        IniState = np.matmul(SwapGate(QubitNo, Index[j-1], Index[j]), IniState)\n",
        "      k += 1\n",
        "    if p != (len(EntList)-1):\n",
        "      lis = []\n",
        "      for u in EntList[:p+1]:\n",
        "        lis = lis + u\n",
        "      lis2 = [g + 1 for g in lis]\n",
        "      Index = [x for x in Index if x not in lis2]\n",
        "      lis1 = []\n",
        "      for u in EntList[p+1]:\n",
        "        count = 0\n",
        "        for v in lis:\n",
        "          if v < u:\n",
        "            count += 1\n",
        "        lis1.append(u-count)\n",
        "      E = lis1\n",
        "  if IsDensity == 1:\n",
        "    Rho = np.kron(IniState,np.conj(IniState.T))\n",
        "    Rho = Rho.reshape(len(Rho)**2,1)\n",
        "    return Rho\n",
        "  return IniState"
      ],
      "execution_count": 0,
      "outputs": []
    },
    {
      "cell_type": "code",
      "metadata": {
        "id": "uLioq6Noz7u5",
        "colab_type": "code",
        "colab": {}
      },
      "source": [
        "#Generate NSep separable states\n",
        "\n",
        "# 1. NSep: Number of separable states to be generated. \n",
        "# 2. QubitNo: Number of qubits\n",
        "# 3. Label: The label attached to the states for classification purposes.\n",
        "# 4. IsDensity: Enter 0 if you want to return the state in normal vector form.\n",
        "#               Enter 1 if you want to return the flattedned density matrix of the state.\n",
        "#               Enter 2 if you want to return both vector and flatted density forms.\n",
        "\n",
        "def GenSepData(NSep, QubitNo, Label, IsDensity):\n",
        "  \n",
        "  if IsDensity == 0:\n",
        "    SepData = np.zeros([NSep, 2**QubitNo]) + 1j*np.zeros([NSep, 2**QubitNo])\n",
        "      \n",
        "    for i in range(NSep):\n",
        "      temp = GenSepState(QubitNo, IsDensity)\n",
        "      SepData[i,:] = temp.T\n",
        "    SepData = np.concatenate([SepData, Label*np.ones((NSep,1))], axis=1)\n",
        "  elif IsDensity == 1:\n",
        "    SepData = np.zeros([NSep, (2**QubitNo) ** 2]) + 1j*np.zeros([NSep, (2**QubitNo) ** 2])\n",
        "      \n",
        "    for i in range(NSep):\n",
        "      temp = GenSepState(QubitNo, IsDensity)\n",
        "      SepData[i,:] = temp.T\n",
        "    SepData = np.concatenate([SepData, Label*np.ones((NSep,1))], axis=1)\n",
        "  else:\n",
        "    SepData = np.zeros([NSep, 2**QubitNo]) + 1j*np.zeros([NSep, 2**QubitNo])\n",
        "    SepDataDensity = np.zeros([NSep, (2**QubitNo) ** 2]) + 1j*np.zeros([NSep, (2**QubitNo) ** 2])\n",
        "    for i in range(NSep):\n",
        "      temp1, temp2 = GenSepState(QubitNo, IsDensity)\n",
        "      SepData[i,:] = temp1.T\n",
        "      SepDataDensity[i,:] = temp2.T\n",
        "    SepData = np.concatenate([SepData, Label*np.ones((NSep,1))], axis=1)\n",
        "    SepDataDensity = np.concatenate([SepDataDensity, Label*np.ones((NSep,1))], axis=1)\n",
        "    return SepData, SepDataDensity\n",
        "  return SepData"
      ],
      "execution_count": 0,
      "outputs": []
    },
    {
      "cell_type": "code",
      "metadata": {
        "id": "DD79sjP_cH97",
        "colab_type": "code",
        "colab": {}
      },
      "source": [
        "# Generate and return NEnt number of entangled states. \n",
        "# These states would be fully entangled, that is, no bipartition of the qubits would result in two separable states.\n",
        "\n",
        "# 1. NEnt: Number of states to be generated.\n",
        "# 2. QubitNO: Number of qubits.\n",
        "# 3. IsMaxEnt: Enter 1 if the states should be maximally entangled.\n",
        "# 4. Label: The label attached to the states for classification purposes.\n",
        "# 5. IsDensity: Enter 0 if you want to return the state in normal vector form.\n",
        "#               Enter 1 if you want to return the flattedned density matrix of the state.\n",
        "#               Enter 2 if you want to return both vector and flatted density forms.\n",
        "\n",
        "def GenEntData(NEnt, QubitNo, IsMaxEnt, Label, IsDensity):\n",
        "  if IsDensity == 0:\n",
        "    EntData = np.zeros([NEnt, 2**QubitNo]) + 1j*np.zeros([NEnt, 2**QubitNo]) \n",
        "      \n",
        "    for i in range(NEnt):\n",
        "      \n",
        "      temp = GenEntState(QubitNo, IsMaxEnt, IsDensity)\n",
        "      EntData[i,:] = temp.T\n",
        "    EntData = np.concatenate([EntData, Label*np.ones((NEnt,1))], axis=1)\n",
        "  elif IsDensity == 1:\n",
        "    EntData = np.zeros([NEnt, (2**QubitNo) ** 2]) + 1j*np.zeros([NEnt, (2**QubitNo) ** 2])\n",
        "    for i in range(NEnt):\n",
        "      \n",
        "      temp = GenEntState(QubitNo, IsMaxEnt, IsDensity, )\n",
        "      EntData[i,:] = temp.T\n",
        "    EntData = np.concatenate([EntData, Label*np.ones((NEnt,1))], axis=1)\n",
        "  else:\n",
        "    EntData = np.zeros([NEnt, 2**QubitNo]) + 1j*np.zeros([NEnt, 2**QubitNo])\n",
        "    EntDataDensity = np.zeros([NEnt, (2**QubitNo) ** 2]) + 1j*np.zeros([NEnt, (2**QubitNo) ** 2])\n",
        "    for i in range(NEnt):\n",
        "      temp1, temp2 = GenEntState(QubitNo, IsMaxEnt, IsDensity)\n",
        "      EntData[i,:] = temp1.T\n",
        "      EntDataDensity[i,:] = temp2.T\n",
        "    EntData = np.concatenate([EntData, Label*np.ones((NEnt,1))], axis=1)\n",
        "    EntDataDensity = np.concatenate([EntDataDensity, Label*np.ones((NEnt,1))], axis=1)\n",
        "    return EntData, EntDataDensity\n",
        "\n",
        "  return EntData"
      ],
      "execution_count": 0,
      "outputs": []
    },
    {
      "cell_type": "code",
      "metadata": {
        "id": "5I7kJmLO6Aa-",
        "colab_type": "code",
        "colab": {}
      },
      "source": [
        "# This function can generate a dataset of entangled states.\n",
        "\n",
        "# 1. N: Number of states to be generated.\n",
        "# 2. QubitNo: Number of qubits\n",
        "# 3. EntList: A list of lists denoting which qubits should be entangled. \n",
        "#    For example, if qubit 0 and qubit 3 should be entangled and qubit 1 and qubit 4 should be entangled, EnTList should be [[0, 3],[1, 4],[2]]\n",
        "# 4. IsMaxEntList: A list which denotes whether the required entangelements should be maximal or not. \n",
        "#    The length of the list should be same as length of EntList.\n",
        "#    For example, if EntList = [[0, 3], [1, 4], [2]] and you want qubit 1 and qubit 4 to be maximally entngled, then IsMaxEntList = [0,1,0].\n",
        "# 5. Label: A label for the entangled states. This label helps while providing the data to the KNN model. It can be any integer.\n",
        "# 6. Isdensity: Enter 1 if you require the state to be returned as a flattened density matrix.\n",
        "\n",
        "def GenMultiEntData(N, QubitNo, EntList, IsMaxEntList, Label, IsDensity):\n",
        "  if IsDensity == 0:\n",
        "  \n",
        "    Data = np.zeros([N, 2**QubitNo]) + 1j*np.zeros([N, 2**QubitNo])\n",
        "    for i in range(N):\n",
        "      \n",
        "      Data[i,:] = GenMultiEntState(QubitNo, EntList, IsMaxEntList, IsDensity).T\n",
        "    \n",
        "  else:\n",
        "    Data = np.zeros([N, (2**QubitNo) ** 2]) + 1j*np.zeros([N, (2**QubitNo) ** 2])\n",
        "    for i in range(N):\n",
        "      \n",
        "      Data[i,:] = GenMultiEntState(QubitNo, EntList, IsMaxEntList, IsDensity).T\n",
        "  Data = np.concatenate([Data, Label*np.ones((N,1))], axis=1)\n",
        "\n",
        "  return Data"
      ],
      "execution_count": 0,
      "outputs": []
    },
    {
      "cell_type": "code",
      "metadata": {
        "id": "nOPqgUJg9D_g",
        "colab_type": "code",
        "colab": {}
      },
      "source": [
        "# This function returns the matrix form of a swap gate.\n",
        "\n",
        "# 1. n: Number of qubits.\n",
        "# 2. s1: First qubit to be swapped.\n",
        "# 3. s2: Second qubit to be swapped.\n",
        "\n",
        "def SwapGate(n, s1, s2):\n",
        "\n",
        "  if s1 == s2:\n",
        "    outmat = np.eye(2**n)\n",
        "  else:  \n",
        "    X = np.matrix([[0,1], [1,0]])\n",
        "    outmat = CU(n, X, s1, s2)\n",
        "    outmat = np.matmul(outmat, CU(n, X, s2, s1))\n",
        "    outmat = np.matmul(outmat, CU(n, X, s1, s2))\n",
        "  return(outmat)"
      ],
      "execution_count": 0,
      "outputs": []
    },
    {
      "cell_type": "code",
      "metadata": {
        "id": "3okznuoAVRe8",
        "colab_type": "code",
        "colab": {}
      },
      "source": [
        "# This function returns a list of matriices which can be used to measure a state in he computational basis.\n",
        "\n",
        "# 1. n: Number of qubits.\n",
        "\n",
        "def compbasis(n):\n",
        "  M = []\n",
        "  for i in range(n):\n",
        "    M.append(np.outer(np.identity(n)[i],np.identity(n)[i]))\n",
        "  return(M)"
      ],
      "execution_count": 0,
      "outputs": []
    },
    {
      "cell_type": "code",
      "metadata": {
        "id": "mdg9Teem9Ijg",
        "colab_type": "code",
        "colab": {}
      },
      "source": [
        "# This function returns the matrix form of a controlled-U gate. \n",
        "\n",
        "# 1. QNo: Number of qubits.\n",
        "# 2. u: The 2x2 unitary matrix U.\n",
        "# 3. con: Control qubit (Starting from 1 to n)\n",
        "# 4. tar: Target qubit (Starting from 1 to n)\n",
        "\n",
        "def CU(QNo, u, con, tar):\n",
        "\n",
        "  outmat = np.zeros([2**QNo, 2**QNo])\n",
        "  N = 2**QNo\n",
        "  con = con - 1\n",
        "  tar = tar - 1\n",
        "\n",
        "  for i in range(N):\n",
        "    TempI = Binary(i, QNo)\n",
        "    if (TempI[con] == 0):\n",
        "      outmat[i,i] = 1\n",
        "    elif (TempI[con] == 1):\n",
        "\n",
        "      for j in range(N):\n",
        "        TempJ = Binary(j, QNo)\n",
        "        if (TempJ[con] == 0):\n",
        "          continue\n",
        "        elif(TempJ[con] == 1):\n",
        "          if TempI[tar] == 0 and TempJ[tar] == 0:\n",
        "            outmat[i,j] = u[0,0]\n",
        "    \n",
        "          if TempI[tar] == 0 and TempJ[tar] == 1:\n",
        "            outmat[i,j] = u[0,1]\n",
        "    \n",
        "          if TempI[tar] == 1 and TempJ[tar] == 0:\n",
        "            outmat[i,j] = u[1,0]\n",
        "    \n",
        "          if TempI[tar] == 1 and TempJ[tar] == 1:\n",
        "            outmat[i,j] = u[1,1]\n",
        "\n",
        "  for k in range(QNo):\n",
        "    if (k == tar or k == con):\n",
        "      continue\n",
        "    else:\n",
        "      for i in range(N):\n",
        "        TempI = Binary(i, QNo)\n",
        "        for j in range(N):\n",
        "          TempJ = Binary(j, QNo)\n",
        "          if (TempI[k] != TempJ[k]):\n",
        "            outmat[i,j] = 0\n",
        "          else:\n",
        "            continue\n",
        "            \n",
        "  return (outmat)"
      ],
      "execution_count": 0,
      "outputs": []
    },
    {
      "cell_type": "code",
      "metadata": {
        "id": "IZUrRAOug29v",
        "colab_type": "code",
        "colab": {}
      },
      "source": [
        "# Function to generate the matrix form of certain controlled-U gates where order of U > 2.\n",
        "# Note that the target qubits should start right from the control qubit onwards, that is, if control is 1, target should be from 2 onwards.\n",
        "\n",
        "# 1. TQ: Total number of qubits on which U acts.\n",
        "# 2. con: Control qubit (starting from 0 to n-1)\n",
        "# 3. U: Matrix form of U gate.\n",
        "# 4. remainder: Number of qubits after the target qubits.\n",
        "\n",
        "def CBigU(TQ, con, U, remainder):\n",
        "  dim = 2 ** TQ\n",
        "  qu = int(math.log(U.shape[0], 2))\n",
        "\n",
        "  binlist = []\n",
        "  anslist = []\n",
        "  for i in range(dim):\n",
        "    temp = Binary(i, TQ)\n",
        "    if temp[con] == 1:\n",
        "      anslist.append(np.kron(np.identity(2 ** (TQ-qu)), U)@np.identity(dim)[i])\n",
        "    else:\n",
        "      anslist.append(np.identity(dim)[i])\n",
        "  ansmat = np.vstack(anslist).T\n",
        "  if remainder != 0:\n",
        "    ansmat1 = np.kron(ansmat, np.eye(2 ** remainder))\n",
        "    return ansmat1\n",
        "  return ansmat"
      ],
      "execution_count": 0,
      "outputs": []
    },
    {
      "cell_type": "code",
      "metadata": {
        "id": "29UwPJ6vVOsj",
        "colab_type": "code",
        "colab": {}
      },
      "source": [
        "# This function is used for measurement. It returns a dictinoary with outcomes as keys and number of times the outcome occurred as values\n",
        "\n",
        "# 1. M1: List of matrices for measurement of first qubit alone. sum(M.T-conjugate * M) should be equal to I.\n",
        "# 2. M2: List of matrices for measurement of M register. Here, we are using POVM measurement an hence sum(M) should be equal to I.\n",
        "# 3. arr: State to be measured.\n",
        "# 4. N1: Number of shots of measurement.\n",
        "# 5. histo: Enter 1 if you want to display the histogram.\n",
        "# 6. verbose: Enter 1 to display which round of measurement the process currently is in.\n",
        "\n",
        "def Measure(M1, M2, arr, N1, histo = 0, verbose = 0):\n",
        "  n1 = len(M1)\n",
        "  n2 = len(M2)\n",
        "  ansdict0 = {}\n",
        "  ansdict1 = {}\n",
        "  sum0 = 0\n",
        "  sum1 = 0\n",
        "  for i in range(len(M2)):\n",
        "    ansdict0[i] = 0\n",
        "    ansdict1[i] = 0\n",
        "  if verbose == 1:\n",
        "    print('calculating prob1')\n",
        "  prob = [np.real(np.matmul(np.conj(arr).T * x, arr)[0,0]) for x in M1]\n",
        "  probz2 = {}\n",
        "  for j in range(N1):\n",
        "    if verbose == 1:\n",
        "      print('meas no {}'.format(j))\n",
        "    \n",
        "    ans = np.random.choice(np.arange(n1), p=prob)\n",
        "    pms = (M1[ans] * arr)/(prob[ans] ** 0.5)\n",
        "    if ans == 0:\n",
        "      try:\n",
        "        probz2[0] \n",
        "      except KeyError:\n",
        "        if verbose == 1:\n",
        "          print('calculating prob20')\n",
        "        probz2[0] = [np.real(np.matmul(np.conj(pms).T * conv, pms)[0,0]) for conv in M2]\n",
        "      ans2 = np.random.choice(np.arange(n2), p=probz2[0])\n",
        "      ansdict0[ans2] += 1\n",
        "      sum0 = sum0 + 1\n",
        "    if ans == 1:\n",
        "      try:\n",
        "        probz2[1] \n",
        "      except KeyError:\n",
        "        if verbose == 1:\n",
        "          print('calculating prob21')\n",
        "        probz2[1] = [np.real(np.matmul(np.conj(pms).T * conv, pms)[0,0]) for conv in M2]\n",
        "      ans2 = np.random.choice(np.arange(n2), p=probz2[1])\n",
        "      ansdict1[ans2] += 1\n",
        "      sum1 = sum1 + 1\n",
        "  return(ansdict0, ansdict1, sum0, sum1)"
      ],
      "execution_count": 0,
      "outputs": []
    },
    {
      "cell_type": "code",
      "metadata": {
        "id": "CfJj0lTX9NdI",
        "colab_type": "code",
        "colab": {}
      },
      "source": [
        "# This function returns the binary form of a decimal number in a list.\n",
        "\n",
        "# 1. x: Decimal number.\n",
        "# 2. BitNo: Number of qubits/bits.\n",
        "\n",
        "def Binary(x, BitNo):\n",
        "  format(x, 'b').zfill(BitNo)\n",
        "  Binlist = [int(y) for y in list(format(x, 'b').zfill(BitNo))]\n",
        "  return Binlist\n"
      ],
      "execution_count": 0,
      "outputs": []
    },
    {
      "cell_type": "code",
      "metadata": {
        "id": "cVkt5Plp_5iY",
        "colab_type": "code",
        "colab": {}
      },
      "source": [
        "# This functions runs the whole circuit. It returns the label of the of test point. The label is based on how the states for training are provided.\n",
        "# For example, if the first 8 are separable and the next 8 are entangled states, then 0 would mean psi is separable and 1 would mean psi is entangled.\n",
        "\n",
        "# 1. TrainStates: The entangled states to be initalized in the final two registers.\n",
        "# 2. GateSets: List of gates.\n",
        "# 3. MeasurementBases: List of measurement bases for both measurements.\n",
        "# 4. Psi: Test state.\n",
        "# 4. NMeas: Number of shots of measurement.\n",
        "# 5. Class: The distribution of data in the trainstates state/training data.\n",
        "#    For example: If you have 8 separable and 8 entangled states, then Class = [8,8]\n",
        "# 6. verbose: Enter 1 to display which round of measurement the process currently is in.\n",
        "\n",
        "def Engine(TrainStates, GateSets, MeasurementBases, Psi, NMeas, Class, k, verbose = 0, histo = 0):  \n",
        "  if verbose == 1:\n",
        "    print('Preparing registers')\n",
        "  \n",
        "  Reg1 = np.matrix([[1], [0]])\n",
        "  Reg2 = Psi\n",
        "  Reg3 = TrainStates\n",
        "  Reg = np.kron(np.kron(Reg1, Reg2), Reg3)\n",
        "  \n",
        "  if verbose == 1:\n",
        "    print('Gate Multiplication')\n",
        "  \n",
        "  step1 = np.matmul(GateSets[0], Reg)\n",
        "  for i in range(N):\n",
        "    step1 = np.matmul(GateSets[i + 1], step1)\n",
        "  step1 = np.matmul(GateSets[0], step1)\n",
        "  \n",
        "  if verbose == 1:\n",
        "    print('Commencing Measurement')\n",
        "  \n",
        "  MeasResults0, MeasResults1, sum0, sum1 = Measure(MeasurementBases[0], MeasurementBases[1], step1, NMeas, verbose = verbose, histo = histo)\n",
        "  MeasResults00 = {k: v / sum0 for k, v in MeasResults0.items()}\n",
        "  MeasResults11 = {k: v / sum1 for k, v in MeasResults1.items()}\n",
        "  MeasResults = {}\n",
        "  for keyy in MeasResults00:\n",
        "    MeasResults[keyy] = MeasResults00[keyy] - MeasResults11[keyy]\n",
        "  if histo == 1:\n",
        "    ml = []\n",
        "    for key in sorted(MeasResults.keys()):\n",
        "      ml.append(MeasResults[key])\n",
        "    plt.subplots(figsize=(9,5))\n",
        "    \n",
        "    plt.bar(list(range(16)), ml[:16], 0.8, color=['blue'])\n",
        "    plt.bar(list(range(16,32)), ml[16:32], 0.8, color=['green'])\n",
        "    plt.legend(['Separable', 'Maximally entangled'], loc = 'upper right', prop={'size': 14})\n",
        "    plt.tick_params(labelsize=14)\n",
        "    plt.show()\n",
        "\n",
        "\n",
        "    \n",
        "    \n",
        "  scores = {}\n",
        "  cumu = [0] + list(np.cumsum(Class))\n",
        "  scores = {}\n",
        "  p = 0 \n",
        "  for i in range(1, len(cumu)):\n",
        "    for j in range(cumu[i-1], cumu[i]):\n",
        "\n",
        "      scores[j] = p\n",
        "    p += 1\n",
        "  ans = []\n",
        "  sorted_x = sorted(MeasResults.items(), key=lambda kv: kv[1], reverse = True)[:k]\n",
        "  for x in sorted_x:\n",
        "    ans.append(scores[x[0]])\n",
        "  Res = max(set(ans), key=ans.count)\n",
        "  return(Res)"
      ],
      "execution_count": 0,
      "outputs": []
    },
    {
      "cell_type": "code",
      "metadata": {
        "id": "IP2mg-xCkCPn",
        "colab_type": "code",
        "colab": {}
      },
      "source": [
        "# This functions prepares the gates and bases for measurement and runs the circuit. \n",
        "\n",
        "# 1. TrainStates: The entangled states to be initalized in the final two registers.\n",
        "# 2, TestData: Dataset containing states for testing.\n",
        "# 2. N: Number of qubits in the test state.\n",
        "# 3. M: Number of qubits required to store all labels of the training states. If there are T training states, then M = log2(T).\n",
        "# 4. NMeas: Number of shots of measurement.\n",
        "# 5. Class: The distribution of data in the trainstates state/training data.\n",
        "#    For example: If you have 8 separable and 8 entangled states, then Class = [8,8]\n",
        "# 6. k: The number of nearest neighbours taken for voting. \n",
        "# 7. histo: 0 if histogram is to be not printed. 1 if histogram is to be printed \n",
        "\n",
        "def QNN(TrainStates, TestData, N, M, NMeas, Class, k, histo = 0):  \n",
        "  \n",
        "  TotalQubits = N + N + M + 1\n",
        "  GateList = []\n",
        "  HadGate = np.matrix([[1,1],[1, -1]])\n",
        "  HadGate = HadGate/np.sqrt(2)\n",
        "\n",
        "  print('Preparing gate1; Hadamard on the firt qubit')\n",
        "  Gate1 = np.kron(HadGate, np.identity(2**(TotalQubits - 1)))\n",
        "  GateList.append(Gate1)\n",
        "  print('Preparing the controlled swap gates')\n",
        "  TempSwap = np.identity(2**(N + N))\n",
        "  \n",
        "  for i in range(N):\n",
        "    s1 = SwapGate(N + N, i + 1, N + i + 1)\n",
        "    Gatetemp = CBigU2Last(1 + N + N, 0, s1, remainder = M)\n",
        "    GateList.append(Gatetemp)\n",
        "\n",
        "  MeasBasis2 = []\n",
        "  print('Preparing measurement set for measuring the first register')\n",
        "  \n",
        "  Results = []\n",
        "  c1 = compbasis(2)\n",
        "  \n",
        "  MeasBasis1 = [csr_matrix(np.kron(x, np.identity(2**(TotalQubits-1)))) for x in c1]\n",
        "  \n",
        "  print('Preparing measurement set for measuring the last register')\n",
        "  \n",
        "  c2 = compbasis(2**M)\n",
        "  for x in c2:\n",
        "    temp = csr_matrix(np.kron(np.identity(2**(TotalQubits-M)), x))\n",
        "    temp2 = temp.conj().transpose() \n",
        "    MeasBasis2.append(temp2 * temp)\n",
        "  ke = 1\n",
        "  \n",
        "  for x in TestData:\n",
        "    print('Test state {} out of {}'.format(ke, TestData.shape[0]))\n",
        "    test = x.reshape((2**N,1))\n",
        "    Results.append(Engine(TrainStates, GateList, [MeasBasis1, MeasBasis2], test, NMeas, Class, k = k, histo = histo))\n",
        "    ke += 1\n",
        "  \n",
        "  return Results"
      ],
      "execution_count": 0,
      "outputs": []
    },
    {
      "cell_type": "markdown",
      "metadata": {
        "id": "4lTXn8vlWWT4",
        "colab_type": "text"
      },
      "source": [
        "# Testing\n",
        "In this section, you may tweak the parameters and have a test run of the simulations. \n"
      ]
    },
    {
      "cell_type": "markdown",
      "metadata": {
        "id": "2D6_frS8D5ZA",
        "colab_type": "text"
      },
      "source": [
        "## Quantum kNN"
      ]
    },
    {
      "cell_type": "markdown",
      "metadata": {
        "id": "qtzKTv8UWY_c",
        "colab_type": "text"
      },
      "source": [
        "In this cell, we prepare the dataset and the state to be initialized in the last two registers for two qubit states. The dataset consists of separable and maximally entangled states."
      ]
    },
    {
      "cell_type": "code",
      "metadata": {
        "id": "NJRz2FiNqjzc",
        "colab_type": "code",
        "colab": {}
      },
      "source": [
        "# Two qubit\n",
        "N = 2\n",
        "M = 5\n",
        "TotalQubits = N + N + M + 1\n",
        "NMeas = 5000\n",
        "\n",
        "# Test\n",
        "NSepT = 15\n",
        "NEntT = 15\n",
        "DataSepTest = GenSepData(NSepT, N, 0, 0)\n",
        "Data12Test = GenEntData(NEntT, N, 1, 1, 0)\n",
        "DataTest = np.concatenate([DataSepTest, Data12Test], axis = 0)\n",
        "Data1Test = DataTest[:,:DataTest.shape[1]-1]\n",
        "YTest = DataTest[:, -1]\n",
        "\n",
        "# Train\n",
        "NSep = 2**(M-1)\n",
        "NEnt = 2**(M-1)\n",
        "DataSep = GenSepData(NSep, N, 0, 0)\n",
        "Data12 = GenEntData(NEnt, 2, 1, 1, 0)\n",
        "Data = np.concatenate([DataSep, Data12], axis = 0)\n",
        "Data1 = Data[:,:Data.shape[1]-1]\n",
        "ans = np.zeros(((2**N) * (2**M),1 )) + 1j*np.zeros(((2**N) * (2**M),1))\n",
        "for i in range(Data1.shape[0]):\n",
        "  temp = Data1[i].reshape(2**N, 1)\n",
        "  temp1 = np.kron(temp, binvec(i,M))\n",
        "  ans = ans + temp1\n",
        "TrainStates = ans/np.linalg.norm(ans)"
      ],
      "execution_count": 0,
      "outputs": []
    },
    {
      "cell_type": "markdown",
      "metadata": {
        "id": "vRa7B9q1Wgvg",
        "colab_type": "text"
      },
      "source": [
        "The results are now dispayed."
      ]
    },
    {
      "cell_type": "code",
      "metadata": {
        "id": "qNK0Dweei3R5",
        "colab_type": "code",
        "outputId": "471df79d-adcb-4fc1-e3c4-81a928e21588",
        "colab": {
          "base_uri": "https://localhost:8080/",
          "height": 1000
        }
      },
      "source": [
        "Results = QNN(TrainStates, Data1Test, N, M, NMeas, [2**(M-1),2**(M-1)], k = 3, histo = 1)"
      ],
      "execution_count": 0,
      "outputs": [
        {
          "output_type": "stream",
          "text": [
            "Preparing gate1; Hadamard on the firt qubit\n",
            "Preparing the controlled swap gates\n",
            "Preparing measurement set for measuring the first register\n",
            "Preparing measurement set for measuring the last register\n",
            "Test state 1 out of 30\n"
          ],
          "name": "stdout"
        },
        {
          "output_type": "display_data",
          "data": {
            "image/png": "[encoded data removed]",
            "text/plain": [
              "<Figure size 648x360 with 1 Axes>"
            ]
          },
          "metadata": {
            "tags": []
          }
        },
        {
          "output_type": "stream",
          "text": [
            "Test state 2 out of 30\n"
          ],
          "name": "stdout"
        },
        {
          "output_type": "display_data",
          "data": {
            "image/png": "[encoded data removed]",
            "text/plain": [
              "<Figure size 648x360 with 1 Axes>"
            ]
          },
          "metadata": {
            "tags": []
          }
        },
        {
          "output_type": "stream",
          "text": [
            "Test state 3 out of 30\n"
          ],
          "name": "stdout"
        },
        {
          "output_type": "display_data",
          "data": {
            "image/png": "[encoded data removed]",
            "text/plain": [
              "<Figure size 648x360 with 1 Axes>"
            ]
          },
          "metadata": {
            "tags": []
          }
        },
        {
          "output_type": "stream",
          "text": [
            "Test state 4 out of 30\n"
          ],
          "name": "stdout"
        },
        {
          "output_type": "display_data",
          "data": {
            "image/png": "[encoded data removed]",
            "text/plain": [
              "<Figure size 648x360 with 1 Axes>"
            ]
          },
          "metadata": {
            "tags": []
          }
        },
        {
          "output_type": "stream",
          "text": [
            "Test state 5 out of 30\n"
          ],
          "name": "stdout"
        },
        {
          "output_type": "display_data",
          "data": {
            "image/png": "[encoded data removed]",
            "text/plain": [
              "<Figure size 648x360 with 1 Axes>"
            ]
          },
          "metadata": {
            "tags": []
          }
        },
        {
          "output_type": "stream",
          "text": [
            "Test state 6 out of 30\n"
          ],
          "name": "stdout"
        },
        {
          "output_type": "display_data",
          "data": {
            "image/png": "[encoded data removed]",
            "text/plain": [
              "<Figure size 648x360 with 1 Axes>"
            ]
          },
          "metadata": {
            "tags": []
          }
        },
        {
          "output_type": "stream",
          "text": [
            "Test state 7 out of 30\n"
          ],
          "name": "stdout"
        },
        {
          "output_type": "display_data",
          "data": {
            "image/png": "[encoded data removed]",
            "text/plain": [
              "<Figure size 648x360 with 1 Axes>"
            ]
          },
          "metadata": {
            "tags": []
          }
        },
        {
          "output_type": "stream",
          "text": [
            "Test state 8 out of 30\n"
          ],
          "name": "stdout"
        },
        {
          "output_type": "display_data",
          "data": {
            "image/png": "[encoded data removed]",
            "text/plain": [
              "<Figure size 648x360 with 1 Axes>"
            ]
          },
          "metadata": {
            "tags": []
          }
        },
        {
          "output_type": "stream",
          "text": [
            "Test state 9 out of 30\n"
          ],
          "name": "stdout"
        },
        {
          "output_type": "display_data",
          "data": {
            "image/png": "[encoded data removed]",
            "text/plain": [
              "<Figure size 648x360 with 1 Axes>"
            ]
          },
          "metadata": {
            "tags": []
          }
        },
        {
          "output_type": "stream",
          "text": [
            "Test state 10 out of 30\n"
          ],
          "name": "stdout"
        },
        {
          "output_type": "display_data",
          "data": {
            "image/png": "[encoded data removed]",
            "text/plain": [
              "<Figure size 648x360 with 1 Axes>"
            ]
          },
          "metadata": {
            "tags": []
          }
        },
        {
          "output_type": "stream",
          "text": [
            "Test state 11 out of 30\n"
          ],
          "name": "stdout"
        },
        {
          "output_type": "display_data",
          "data": {
            "image/png": "[encoded data removed]",
            "text/plain": [
              "<Figure size 648x360 with 1 Axes>"
            ]
          },
          "metadata": {
            "tags": []
          }
        },
        {
          "output_type": "stream",
          "text": [
            "Test state 12 out of 30\n"
          ],
          "name": "stdout"
        },
        {
          "output_type": "display_data",
          "data": {
            "image/png": "[encoded data removed]",
            "text/plain": [
              "<Figure size 648x360 with 1 Axes>"
            ]
          },
          "metadata": {
            "tags": []
          }
        },
        {
          "output_type": "stream",
          "text": [
            "Test state 13 out of 30\n"
          ],
          "name": "stdout"
        },
        {
          "output_type": "display_data",
          "data": {
            "image/png": "[encoded data removed]",
            "text/plain": [
              "<Figure size 648x360 with 1 Axes>"
            ]
          },
          "metadata": {
            "tags": []
          }
        },
        {
          "output_type": "stream",
          "text": [
            "Test state 14 out of 30\n"
          ],
          "name": "stdout"
        },
        {
          "output_type": "display_data",
          "data": {
            "image/png": "[encoded data removed]",
            "text/plain": [
              "<Figure size 648x360 with 1 Axes>"
            ]
          },
          "metadata": {
            "tags": []
          }
        },
        {
          "output_type": "stream",
          "text": [
            "Test state 15 out of 30\n"
          ],
          "name": "stdout"
        },
        {
          "output_type": "display_data",
          "data": {
            "image/png": "[encoded data removed]",
            "text/plain": [
              "<Figure size 648x360 with 1 Axes>"
            ]
          },
          "metadata": {
            "tags": []
          }
        },
        {
          "output_type": "stream",
          "text": [
            "Test state 16 out of 30\n"
          ],
          "name": "stdout"
        },
        {
          "output_type": "display_data",
          "data": {
            "image/png": "[encoded data removed]",
            "text/plain": [
              "<Figure size 648x360 with 1 Axes>"
            ]
          },
          "metadata": {
            "tags": []
          }
        },
        {
          "output_type": "stream",
          "text": [
            "Test state 17 out of 30\n"
          ],
          "name": "stdout"
        },
        {
          "output_type": "display_data",
          "data": {
            "image/png": "[encoded data removed]",
            "text/plain": [
              "<Figure size 648x360 with 1 Axes>"
            ]
          },
          "metadata": {
            "tags": []
          }
        },
        {
          "output_type": "stream",
          "text": [
            "Test state 18 out of 30\n"
          ],
          "name": "stdout"
        },
        {
          "output_type": "display_data",
          "data": {
            "image/png": "[encoded data removed]",
            "text/plain": [
              "<Figure size 648x360 with 1 Axes>"
            ]
          },
          "metadata": {
            "tags": []
          }
        },
        {
          "output_type": "stream",
          "text": [
            "Test state 19 out of 30\n"
          ],
          "name": "stdout"
        },
        {
          "output_type": "display_data",
          "data": {
            "image/png": "[encoded data removed]",
            "text/plain": [
              "<Figure size 648x360 with 1 Axes>"
            ]
          },
          "metadata": {
            "tags": []
          }
        },
        {
          "output_type": "stream",
          "text": [
            "Test state 20 out of 30\n"
          ],
          "name": "stdout"
        },
        {
          "output_type": "display_data",
          "data": {
            "image/png": "[encoded data removed]",
            "text/plain": [
              "<Figure size 648x360 with 1 Axes>"
            ]
          },
          "metadata": {
            "tags": []
          }
        },
        {
          "output_type": "stream",
          "text": [
            "Test state 21 out of 30\n"
          ],
          "name": "stdout"
        },
        {
          "output_type": "display_data",
          "data": {
            "image/png": "[encoded data removed]",
            "text/plain": [
              "<Figure size 648x360 with 1 Axes>"
            ]
          },
          "metadata": {
            "tags": []
          }
        },
        {
          "output_type": "stream",
          "text": [
            "Test state 22 out of 30\n"
          ],
          "name": "stdout"
        },
        {
          "output_type": "display_data",
          "data": {
            "image/png": "[encoded data removed]",
            "text/plain": [
              "<Figure size 648x360 with 1 Axes>"
            ]
          },
          "metadata": {
            "tags": []
          }
        },
        {
          "output_type": "stream",
          "text": [
            "Test state 23 out of 30\n"
          ],
          "name": "stdout"
        },
        {
          "output_type": "display_data",
          "data": {
            "image/png": "[encoded data removed]",
            "text/plain": [
              "<Figure size 648x360 with 1 Axes>"
            ]
          },
          "metadata": {
            "tags": []
          }
        },
        {
          "output_type": "stream",
          "text": [
            "Test state 24 out of 30\n"
          ],
          "name": "stdout"
        },
        {
          "output_type": "display_data",
          "data": {
            "image/png": "[encoded data removed]",
            "text/plain": [
              "<Figure size 648x360 with 1 Axes>"
            ]
          },
          "metadata": {
            "tags": []
          }
        },
        {
          "output_type": "stream",
          "text": [
            "Test state 25 out of 30\n"
          ],
          "name": "stdout"
        },
        {
          "output_type": "display_data",
          "data": {
            "image/png": "[encoded data removed]",
            "text/plain": [
              "<Figure size 648x360 with 1 Axes>"
            ]
          },
          "metadata": {
            "tags": []
          }
        },
        {
          "output_type": "stream",
          "text": [
            "Test state 26 out of 30\n"
          ],
          "name": "stdout"
        },
        {
          "output_type": "display_data",
          "data": {
            "image/png": "[encoded data removed]",
            "text/plain": [
              "<Figure size 648x360 with 1 Axes>"
            ]
          },
          "metadata": {
            "tags": []
          }
        },
        {
          "output_type": "stream",
          "text": [
            "Test state 27 out of 30\n"
          ],
          "name": "stdout"
        },
        {
          "output_type": "display_data",
          "data": {
            "image/png": "[encoded data removed]",
            "text/plain": [
              "<Figure size 648x360 with 1 Axes>"
            ]
          },
          "metadata": {
            "tags": []
          }
        },
        {
          "output_type": "stream",
          "text": [
            "Test state 28 out of 30\n"
          ],
          "name": "stdout"
        },
        {
          "output_type": "display_data",
          "data": {
            "image/png": "[encoded data removed]",
            "text/plain": [
              "<Figure size 648x360 with 1 Axes>"
            ]
          },
          "metadata": {
            "tags": []
          }
        },
        {
          "output_type": "stream",
          "text": [
            "Test state 29 out of 30\n"
          ],
          "name": "stdout"
        },
        {
          "output_type": "display_data",
          "data": {
            "image/png": "[encoded data removed]",
            "text/plain": [
              "<Figure size 648x360 with 1 Axes>"
            ]
          },
          "metadata": {
            "tags": []
          }
        },
        {
          "output_type": "stream",
          "text": [
            "Test state 30 out of 30\n"
          ],
          "name": "stdout"
        },
        {
          "output_type": "display_data",
          "data": {
            "image/png": "[encoded data removed]",
            "text/plain": [
              "<Figure size 648x360 with 1 Axes>"
            ]
          },
          "metadata": {
            "tags": []
          }
        }
      ]
    },
    {
      "cell_type": "markdown",
      "metadata": {
        "id": "mvv-yA3NWkc3",
        "colab_type": "text"
      },
      "source": [
        "Accuracy Score is shown below."
      ]
    },
    {
      "cell_type": "code",
      "metadata": {
        "id": "enUXGcQ12tQ2",
        "colab_type": "code",
        "outputId": "be0bdffc-6a5f-4677-a718-89d00143f15e",
        "colab": {
          "base_uri": "https://localhost:8080/",
          "height": 34
        }
      },
      "source": [
        "accuracy_score(YTest, Results)"
      ],
      "execution_count": 0,
      "outputs": [
        {
          "output_type": "execute_result",
          "data": {
            "text/plain": [
              "1.0"
            ]
          },
          "metadata": {
            "tags": []
          },
          "execution_count": 92
        }
      ]
    },
    {
      "cell_type": "markdown",
      "metadata": {
        "id": "0_XDf2mVarPm",
        "colab_type": "text"
      },
      "source": [
        "## Classical KNN"
      ]
    },
    {
      "cell_type": "markdown",
      "metadata": {
        "id": "c-35ZkdiEBVL",
        "colab_type": "text"
      },
      "source": [
        "Here we have a test run of the classical kNN algorithm where the classification is done between separable vs entangled states with $1000$ states in each class."
      ]
    },
    {
      "cell_type": "code",
      "metadata": {
        "id": "EeVeoOO8kcum",
        "colab_type": "code",
        "colab": {}
      },
      "source": [
        "NSep = 1000\n",
        "NEnt = 1000\n",
        "n = 2"
      ],
      "execution_count": 0,
      "outputs": []
    },
    {
      "cell_type": "code",
      "metadata": {
        "id": "MSQWHhXIka87",
        "colab_type": "code",
        "colab": {}
      },
      "source": [
        "DataSep = GenSepData(NSep, n, 1, 1)\n",
        "Data12 = GenEntData(NEnt, n, 0, 0, 1)\n",
        "Data = np.concatenate([DataSep, Data12], axis = 0)"
      ],
      "execution_count": 0,
      "outputs": []
    },
    {
      "cell_type": "code",
      "metadata": {
        "id": "pkCaPPJqktru",
        "colab_type": "code",
        "colab": {}
      },
      "source": [
        "np.random.shuffle(Data)"
      ],
      "execution_count": 0,
      "outputs": []
    },
    {
      "cell_type": "code",
      "metadata": {
        "id": "r7MvXx6Skl6i",
        "colab_type": "code",
        "colab": {}
      },
      "source": [
        "DataX = Data[:,:-1]\n",
        "DataY = Data[:,-1]\n",
        "DataSplitX = np.concatenate([np.real(DataX), np.imag(DataX)], axis = 1)\n",
        "DataSplitY = np.real(DataY)\n",
        "XTrain, YTrain, XTest, YTest = DataSplitX[:-int((NSep+NEnt)/5)], DataSplitY[:-int((NSep+NEnt)/5)], DataSplitX[-int((NSep+NEnt)/5):], DataSplitY[-int((NSep+NEnt)/5):]"
      ],
      "execution_count": 0,
      "outputs": []
    },
    {
      "cell_type": "code",
      "metadata": {
        "id": "dkfjP9gLkotF",
        "colab_type": "code",
        "outputId": "97c06743-9cef-4fa1-8e1b-eb00b3b06479",
        "colab": {
          "base_uri": "https://localhost:8080/",
          "height": 68
        }
      },
      "source": [
        "NeighComp = KNeighborsClassifier(n_neighbors=3, metric = 'cosine')\n",
        "NeighComp.fit(XTrain, YTrain)\n",
        "Ans = NeighComp.predict(XTest)\n",
        "print(\"Accuracy = \",accuracy_score(YTest, Ans))\n",
        "confusion_matrix(YTest, Ans)"
      ],
      "execution_count": 0,
      "outputs": [
        {
          "output_type": "stream",
          "text": [
            "Accuracy =  0.935\n"
          ],
          "name": "stdout"
        },
        {
          "output_type": "execute_result",
          "data": {
            "text/plain": [
              "array([[163,  24],\n",
              "       [  2, 211]])"
            ]
          },
          "metadata": {
            "tags": []
          },
          "execution_count": 34
        }
      ]
    },
    {
      "cell_type": "markdown",
      "metadata": {
        "id": "qokiWmd2fRO-",
        "colab_type": "text"
      },
      "source": [
        "# Simulation results\n",
        "We now present our computational and simulational results. "
      ]
    },
    {
      "cell_type": "markdown",
      "metadata": {
        "id": "vRxWI2dYEzsb",
        "colab_type": "text"
      },
      "source": [
        "## Classical kNN classifier"
      ]
    },
    {
      "cell_type": "markdown",
      "metadata": {
        "id": "0iozRV1aE37N",
        "colab_type": "text"
      },
      "source": [
        "Here we attempt three classification problems. \n",
        "\n",
        "1.   Separable vs maximally entangled states in two qubits.\n",
        "2.   Separable vs entangled states in two qubits.\n",
        "3.   Entanglement classification in three qubits where there are 5 classes, which are A-B-C, AB-C, A-BC, AC-B, ABC.\n",
        "\n",
        "Here a '-' indicates the partitions are separable and a lack of it indicates they are entangled.\n",
        "\n",
        "\n"
      ]
    },
    {
      "cell_type": "markdown",
      "metadata": {
        "id": "Hndrmf5fIWVD",
        "colab_type": "text"
      },
      "source": [
        "### Separable vs Maximally entangled states\n",
        "Classification is done with 100000 data points in each class. \n"
      ]
    },
    {
      "cell_type": "code",
      "metadata": {
        "colab_type": "code",
        "id": "IHxb_ZpRItCc",
        "colab": {}
      },
      "source": [
        "NSep = 100000\n",
        "NEnt = 100000\n",
        "n = 2"
      ],
      "execution_count": 0,
      "outputs": []
    },
    {
      "cell_type": "code",
      "metadata": {
        "colab_type": "code",
        "id": "OY_8JZ8UItCt",
        "colab": {}
      },
      "source": [
        "DataSep = GenSepData(NSep, n, 0, 1)\n",
        "Data12 = GenEntData(NEnt, n, 1, 1, 1)\n",
        "Data = np.concatenate([DataSep, Data12], axis = 0)"
      ],
      "execution_count": 0,
      "outputs": []
    },
    {
      "cell_type": "code",
      "metadata": {
        "colab_type": "code",
        "id": "q8bOUusQItC3",
        "colab": {}
      },
      "source": [
        "np.random.shuffle(Data)"
      ],
      "execution_count": 0,
      "outputs": []
    },
    {
      "cell_type": "code",
      "metadata": {
        "colab_type": "code",
        "id": "Ujxto67FItDC",
        "colab": {}
      },
      "source": [
        "DataX = Data[:,:-1]\n",
        "DataY = Data[:,-1]\n",
        "DataSplitX = np.concatenate([np.real(DataX), np.imag(DataX)], axis = 1)\n",
        "DataSplitY = np.real(DataY)\n",
        "XTrain, YTrain, XTest, YTest = DataSplitX[:-int((NSep+NEnt)/5)], DataSplitY[:-int((NSep+NEnt)/5)], DataSplitX[-int((NSep+NEnt)/5):], DataSplitY[-int((NSep+NEnt)/5):]"
      ],
      "execution_count": 0,
      "outputs": []
    },
    {
      "cell_type": "code",
      "metadata": {
        "colab_type": "code",
        "outputId": "a0f95bee-1281-4c11-d0e0-58c674a8c93e",
        "id": "VehPzd-oItDO",
        "colab": {
          "base_uri": "https://localhost:8080/",
          "height": 68
        }
      },
      "source": [
        "NeighComp = KNeighborsClassifier(n_neighbors=3, metric = 'cosine')\n",
        "NeighComp.fit(XTrain, YTrain)\n",
        "Ans = NeighComp.predict(XTest)\n",
        "print(\"Accuracy = \",accuracy_score(YTest, Ans))\n",
        "confusion_matrix(YTest, Ans)"
      ],
      "execution_count": 0,
      "outputs": [
        {
          "output_type": "stream",
          "text": [
            "Accuracy =  1.0\n"
          ],
          "name": "stdout"
        },
        {
          "output_type": "execute_result",
          "data": {
            "text/plain": [
              "array([[20077,     0],\n",
              "       [    0, 19923]])"
            ]
          },
          "metadata": {
            "tags": []
          },
          "execution_count": 57
        }
      ]
    },
    {
      "cell_type": "markdown",
      "metadata": {
        "id": "XrmzoGkeIx-v",
        "colab_type": "text"
      },
      "source": [
        "### Separable vs Entangled states\n",
        "\n",
        "Classification is done with 100000 data points in each class. \n",
        "\n"
      ]
    },
    {
      "cell_type": "code",
      "metadata": {
        "colab_type": "code",
        "id": "dF84CcJQLZO9",
        "colab": {}
      },
      "source": [
        "NSep = 100000\n",
        "NEnt = 100000\n",
        "n = 2"
      ],
      "execution_count": 0,
      "outputs": []
    },
    {
      "cell_type": "code",
      "metadata": {
        "colab_type": "code",
        "id": "7MdxN3lZLZPQ",
        "colab": {}
      },
      "source": [
        "DataSep = GenSepData(NSep, n, 0, 1)\n",
        "Data12 = GenEntData(NEnt, n, 0, 1, 1)\n",
        "Data = np.concatenate([DataSep, Data12], axis = 0)"
      ],
      "execution_count": 0,
      "outputs": []
    },
    {
      "cell_type": "code",
      "metadata": {
        "colab_type": "code",
        "id": "Bcgh4vZdLZPf",
        "colab": {}
      },
      "source": [
        "np.random.shuffle(Data)"
      ],
      "execution_count": 0,
      "outputs": []
    },
    {
      "cell_type": "code",
      "metadata": {
        "colab_type": "code",
        "id": "O50lrGp8LZPr",
        "colab": {}
      },
      "source": [
        "DataX = Data[:,:-1]\n",
        "DataY = Data[:,-1]\n",
        "DataSplitX = np.concatenate([np.real(DataX), np.imag(DataX)], axis = 1)\n",
        "DataSplitY = np.real(DataY)\n",
        "XTrain, YTrain, XTest, YTest = DataSplitX[:-int((NSep+NEnt)/5)], DataSplitY[:-int((NSep+NEnt)/5)], DataSplitX[-int((NSep+NEnt)/5):], DataSplitY[-int((NSep+NEnt)/5):]"
      ],
      "execution_count": 0,
      "outputs": []
    },
    {
      "cell_type": "code",
      "metadata": {
        "colab_type": "code",
        "outputId": "e36ad63c-82bf-42ff-d813-bce93084834f",
        "id": "lEzG9WNTLZP2",
        "colab": {
          "base_uri": "https://localhost:8080/",
          "height": 68
        }
      },
      "source": [
        "NeighComp = KNeighborsClassifier(n_neighbors=3, metric = 'cosine')\n",
        "NeighComp.fit(XTrain, YTrain)\n",
        "Ans = NeighComp.predict(XTest)\n",
        "print(\"Accuracy = \",accuracy_score(YTest, Ans))\n",
        "confusion_matrix(YTest, Ans)"
      ],
      "execution_count": 0,
      "outputs": [
        {
          "output_type": "stream",
          "text": [
            "Accuracy =  0.985025\n"
          ],
          "name": "stdout"
        },
        {
          "output_type": "execute_result",
          "data": {
            "text/plain": [
              "array([[19881,     7],\n",
              "       [  592, 19520]])"
            ]
          },
          "metadata": {
            "tags": []
          },
          "execution_count": 62
        }
      ]
    },
    {
      "cell_type": "markdown",
      "metadata": {
        "id": "g4rZWQFWLQuT",
        "colab_type": "text"
      },
      "source": [
        "### Three qubit entanglement classification\n",
        "\n",
        "Classification is done with 100000 data points in each class. \n"
      ]
    },
    {
      "cell_type": "code",
      "metadata": {
        "id": "odT_VlkbfXjZ",
        "colab_type": "code",
        "colab": {}
      },
      "source": [
        "N = 100000\n",
        "DataSep = GenSepData(N, 3, 0, 1)\n",
        "Data12 = GenMultiEntData(N, 3, [[0,1],[2]], [0,0], 12, 1)\n",
        "Data23 = GenMultiEntData(N, 3, [[0],[1,2]], [0,0], 23, 1)\n",
        "Data31 = GenMultiEntData(N, 3, [[0,2],[1]], [0,0], 13, 1)\n",
        "Data123 = GenEntData(N, 3, 0, 123, 1)"
      ],
      "execution_count": 0,
      "outputs": []
    },
    {
      "cell_type": "code",
      "metadata": {
        "id": "Jzi7q2CYffXC",
        "colab_type": "code",
        "colab": {}
      },
      "source": [
        "Data = np.concatenate([DataSep, Data12, Data23, Data31, Data123], axis = 0)"
      ],
      "execution_count": 0,
      "outputs": []
    },
    {
      "cell_type": "code",
      "metadata": {
        "id": "LQMJey6Zh1QU",
        "colab_type": "code",
        "colab": {}
      },
      "source": [
        "np.random.shuffle(Data)"
      ],
      "execution_count": 0,
      "outputs": []
    },
    {
      "cell_type": "code",
      "metadata": {
        "id": "N21izrHGh2Y2",
        "colab_type": "code",
        "colab": {}
      },
      "source": [
        "DataX = Data[:,:-1]\n",
        "DataY = Data[:,-1]"
      ],
      "execution_count": 0,
      "outputs": []
    },
    {
      "cell_type": "code",
      "metadata": {
        "id": "ZThplZpoh4iu",
        "colab_type": "code",
        "colab": {}
      },
      "source": [
        "DataSplitX = np.concatenate([np.real(DataX), np.imag(DataX)], axis = 1)\n",
        "DataSplitY = np.real(DataY)"
      ],
      "execution_count": 0,
      "outputs": []
    },
    {
      "cell_type": "code",
      "metadata": {
        "id": "127ZoeWdh6yQ",
        "colab_type": "code",
        "colab": {}
      },
      "source": [
        "XTrain, YTrain, XTest, YTest = \\\n",
        "DataSplitX[:-2000], DataSplitY[:-2000], DataSplitX[-2000:], DataSplitY[-2000:]"
      ],
      "execution_count": 0,
      "outputs": []
    },
    {
      "cell_type": "code",
      "metadata": {
        "id": "3M1ASbZKh9G_",
        "colab_type": "code",
        "outputId": "9cf1e40d-e0c6-4b26-d5fc-8248565e2425",
        "colab": {
          "base_uri": "https://localhost:8080/",
          "height": 119
        }
      },
      "source": [
        "NeighComp = KNeighborsClassifier(n_neighbors=3, metric = 'cosine')\n",
        "NeighComp.fit(XTrain, YTrain)\n",
        "Ans = NeighComp.predict(XTest)\n",
        "print(\"Accuracy = \",accuracy_score(YTest, Ans))\n",
        "confusion_matrix(YTest, Ans)"
      ],
      "execution_count": 0,
      "outputs": [
        {
          "output_type": "stream",
          "text": [
            "Accuracy =  0.889\n"
          ],
          "name": "stdout"
        },
        {
          "output_type": "execute_result",
          "data": {
            "text/plain": [
              "array([[390,   0,   1,   0,   0],\n",
              "       [ 12, 388,   7,  10,   0],\n",
              "       [ 16,  15, 348,  14,   0],\n",
              "       [ 17,  24,   8, 383,   0],\n",
              "       [  1,  36,  38,  23, 269]])"
            ]
          },
          "metadata": {
            "tags": []
          },
          "execution_count": 70
        }
      ]
    },
    {
      "cell_type": "markdown",
      "metadata": {
        "id": "R2k9jSDkyAZL",
        "colab_type": "text"
      },
      "source": [
        "##Quantum kNN classifier"
      ]
    },
    {
      "cell_type": "markdown",
      "metadata": {
        "id": "sn-stT-yMkQE",
        "colab_type": "text"
      },
      "source": [
        "We now look at two problems. \n",
        "\n",
        "\n",
        "1.   Separable states vs maximally entangled states in two qubits.\n",
        "2.   Separable states vs entangled states in two qubits.\n",
        "\n",
        "In both classifications, we have 16 train states in each class. $k$ is chosen to be 3. Simulations are done for $10000$ shots and each result is averaged over 10 such simulations with random generated data.\n",
        "\n",
        "To compare the efficiency of classical vs quantum kNN, we also compare results with classical kNN implemented over the same data (i.e. 16 data points in each class)."
      ]
    },
    {
      "cell_type": "markdown",
      "metadata": {
        "id": "z_lwtTf3NjFP",
        "colab_type": "text"
      },
      "source": [
        "### Separable vs maximally entangled states"
      ]
    },
    {
      "cell_type": "code",
      "metadata": {
        "id": "lKrQkVEQy_zQ",
        "colab_type": "code",
        "outputId": "841067c0-9340-49ec-fe34-52fbc2f3ad78",
        "colab": {
          "base_uri": "https://localhost:8080/",
          "height": 1000
        }
      },
      "source": [
        "acclist1 = [] # accuracies of quantum kNN\n",
        "acclist2 = [] # accuracies of classical kNN\n",
        "for av in range(10):\n",
        "  print('Stage {}'.format(av))\n",
        "  # Two qubit\n",
        "  N = 2\n",
        "  M = 5\n",
        "  TotalQubits = N + N + M + 1\n",
        "  NMeas = 10000\n",
        "\n",
        "  # Test\n",
        "  NSepT = 15\n",
        "  NEntT = 15\n",
        "  DataSepTest, DataSepTestDensity = GenSepData(NSepT, N, 0, 2)\n",
        "  Data12Test, Data12TestDensity = GenEntData(NEntT, N, 1, 1, 2)\n",
        "  DataTest = np.concatenate([DataSepTest, Data12Test], axis = 0)\n",
        "  Data1Test = DataTest[:,:DataTest.shape[1]-1]\n",
        "  YTest = DataTest[:, -1]\n",
        "\n",
        "  # Train\n",
        "  NSep = 2**(M-1)\n",
        "  NEnt = 2**(M-1)\n",
        "  DataSep, DataSepDensity = GenSepData(NSep, N, 0, 2)\n",
        "  Data12, Data12Density = GenEntData(NEnt, 2, 1, 1, 2)\n",
        "  Data = np.concatenate([DataSep, Data12], axis = 0)\n",
        "  Data1 = Data[:,:Data.shape[1]-1]\n",
        "  ans = np.zeros(((2**N) * (2**M),1 )) + 1j*np.zeros(((2**N) * (2**M),1))\n",
        "  for i in range(Data1.shape[0]):\n",
        "    temp = Data1[i].reshape(2**N, 1)\n",
        "    temp1 = np.kron(temp, binvec(i,M))\n",
        "    ans = ans + temp1\n",
        "  TrainStates = ans/np.linalg.norm(ans)\n",
        "  Results = QNN(TrainStates, Data1Test, N, M, NMeas, [2**(M-1),2**(M-1)], 3, histo = 0) #Put histo = 1 for viewing histograms and run the cell again\n",
        "  acclist1.append(accuracy_score(YTest, Results))\n",
        "\n",
        "  # Classical\n",
        "  DataDensity = np.concatenate([DataSepDensity, Data12Density], axis = 0)\n",
        "  DataX = DataDensity[:,:-1]\n",
        "  DataY = DataDensity[:,-1]\n",
        "  DataSplitX = np.concatenate([np.real(DataX), np.imag(DataX)], axis = 1)\n",
        "  DataSplitY = np.real(DataY)\n",
        "  NeighComp = KNeighborsClassifier(n_neighbors=3, metric = 'cosine')\n",
        "  NeighComp.fit(DataSplitX, DataSplitY)\n",
        "  # Test\n",
        "  DataTestDensity = np.concatenate([DataSepTestDensity, Data12TestDensity], axis = 0)\n",
        "  DataXTest = DataTestDensity[:,:-1]\n",
        "  DataYTest = DataTestDensity[:,-1]\n",
        "  DataSplitXTest = np.concatenate([np.real(DataXTest), np.imag(DataXTest)], axis = 1)\n",
        "  DataSplitYTest = np.real(DataYTest)\n",
        "  AnsClass = NeighComp.predict(DataSplitXTest)\n",
        "  acclist2.append(accuracy_score(DataSplitYTest, AnsClass))\n"
      ],
      "execution_count": 0,
      "outputs": [
        {
          "output_type": "stream",
          "text": [
            "Stage 0\n",
            "Preparing gate1; Hadamard on the firt qubit\n",
            "Preparing the controlled swap gates\n",
            "Preparing measurement set for measuring the first register\n",
            "Preparing measurement set for measuring the last register\n",
            "Test state 1 out of 30\n",
            "Test state 2 out of 30\n",
            "Test state 3 out of 30\n",
            "Test state 4 out of 30\n",
            "Test state 5 out of 30\n",
            "Test state 6 out of 30\n",
            "Test state 7 out of 30\n",
            "Test state 8 out of 30\n",
            "Test state 9 out of 30\n",
            "Test state 10 out of 30\n",
            "Test state 11 out of 30\n",
            "Test state 12 out of 30\n",
            "Test state 13 out of 30\n",
            "Test state 14 out of 30\n",
            "Test state 15 out of 30\n",
            "Test state 16 out of 30\n",
            "Test state 17 out of 30\n",
            "Test state 18 out of 30\n",
            "Test state 19 out of 30\n",
            "Test state 20 out of 30\n",
            "Test state 21 out of 30\n",
            "Test state 22 out of 30\n",
            "Test state 23 out of 30\n",
            "Test state 24 out of 30\n",
            "Test state 25 out of 30\n",
            "Test state 26 out of 30\n",
            "Test state 27 out of 30\n",
            "Test state 28 out of 30\n",
            "Test state 29 out of 30\n",
            "Test state 30 out of 30\n",
            "Stage 1\n",
            "Preparing gate1; Hadamard on the firt qubit\n",
            "Preparing the controlled swap gates\n",
            "Preparing measurement set for measuring the first register\n",
            "Preparing measurement set for measuring the last register\n",
            "Test state 1 out of 30\n",
            "Test state 2 out of 30\n",
            "Test state 3 out of 30\n",
            "Test state 4 out of 30\n",
            "Test state 5 out of 30\n",
            "Test state 6 out of 30\n",
            "Test state 7 out of 30\n",
            "Test state 8 out of 30\n",
            "Test state 9 out of 30\n",
            "Test state 10 out of 30\n",
            "Test state 11 out of 30\n",
            "Test state 12 out of 30\n",
            "Test state 13 out of 30\n",
            "Test state 14 out of 30\n",
            "Test state 15 out of 30\n",
            "Test state 16 out of 30\n",
            "Test state 17 out of 30\n",
            "Test state 18 out of 30\n",
            "Test state 19 out of 30\n",
            "Test state 20 out of 30\n",
            "Test state 21 out of 30\n",
            "Test state 22 out of 30\n",
            "Test state 23 out of 30\n",
            "Test state 24 out of 30\n",
            "Test state 25 out of 30\n",
            "Test state 26 out of 30\n",
            "Test state 27 out of 30\n",
            "Test state 28 out of 30\n",
            "Test state 29 out of 30\n",
            "Test state 30 out of 30\n",
            "Stage 2\n",
            "Preparing gate1; Hadamard on the firt qubit\n",
            "Preparing the controlled swap gates\n",
            "Preparing measurement set for measuring the first register\n",
            "Preparing measurement set for measuring the last register\n",
            "Test state 1 out of 30\n",
            "Test state 2 out of 30\n",
            "Test state 3 out of 30\n",
            "Test state 4 out of 30\n",
            "Test state 5 out of 30\n",
            "Test state 6 out of 30\n",
            "Test state 7 out of 30\n",
            "Test state 8 out of 30\n",
            "Test state 9 out of 30\n",
            "Test state 10 out of 30\n",
            "Test state 11 out of 30\n",
            "Test state 12 out of 30\n",
            "Test state 13 out of 30\n",
            "Test state 14 out of 30\n",
            "Test state 15 out of 30\n",
            "Test state 16 out of 30\n",
            "Test state 17 out of 30\n",
            "Test state 18 out of 30\n",
            "Test state 19 out of 30\n",
            "Test state 20 out of 30\n",
            "Test state 21 out of 30\n",
            "Test state 22 out of 30\n",
            "Test state 23 out of 30\n",
            "Test state 24 out of 30\n",
            "Test state 25 out of 30\n",
            "Test state 26 out of 30\n",
            "Test state 27 out of 30\n",
            "Test state 28 out of 30\n",
            "Test state 29 out of 30\n",
            "Test state 30 out of 30\n",
            "Stage 3\n",
            "Preparing gate1; Hadamard on the firt qubit\n",
            "Preparing the controlled swap gates\n",
            "Preparing measurement set for measuring the first register\n",
            "Preparing measurement set for measuring the last register\n",
            "Test state 1 out of 30\n",
            "Test state 2 out of 30\n",
            "Test state 3 out of 30\n",
            "Test state 4 out of 30\n",
            "Test state 5 out of 30\n",
            "Test state 6 out of 30\n",
            "Test state 7 out of 30\n",
            "Test state 8 out of 30\n",
            "Test state 9 out of 30\n",
            "Test state 10 out of 30\n",
            "Test state 11 out of 30\n",
            "Test state 12 out of 30\n",
            "Test state 13 out of 30\n",
            "Test state 14 out of 30\n",
            "Test state 15 out of 30\n",
            "Test state 16 out of 30\n",
            "Test state 17 out of 30\n",
            "Test state 18 out of 30\n",
            "Test state 19 out of 30\n",
            "Test state 20 out of 30\n",
            "Test state 21 out of 30\n",
            "Test state 22 out of 30\n",
            "Test state 23 out of 30\n",
            "Test state 24 out of 30\n",
            "Test state 25 out of 30\n",
            "Test state 26 out of 30\n",
            "Test state 27 out of 30\n",
            "Test state 28 out of 30\n",
            "Test state 29 out of 30\n",
            "Test state 30 out of 30\n",
            "Stage 4\n",
            "Preparing gate1; Hadamard on the firt qubit\n",
            "Preparing the controlled swap gates\n",
            "Preparing measurement set for measuring the first register\n",
            "Preparing measurement set for measuring the last register\n",
            "Test state 1 out of 30\n",
            "Test state 2 out of 30\n",
            "Test state 3 out of 30\n",
            "Test state 4 out of 30\n",
            "Test state 5 out of 30\n",
            "Test state 6 out of 30\n",
            "Test state 7 out of 30\n",
            "Test state 8 out of 30\n",
            "Test state 9 out of 30\n",
            "Test state 10 out of 30\n",
            "Test state 11 out of 30\n",
            "Test state 12 out of 30\n",
            "Test state 13 out of 30\n",
            "Test state 14 out of 30\n",
            "Test state 15 out of 30\n",
            "Test state 16 out of 30\n",
            "Test state 17 out of 30\n",
            "Test state 18 out of 30\n",
            "Test state 19 out of 30\n",
            "Test state 20 out of 30\n",
            "Test state 21 out of 30\n",
            "Test state 22 out of 30\n",
            "Test state 23 out of 30\n",
            "Test state 24 out of 30\n",
            "Test state 25 out of 30\n",
            "Test state 26 out of 30\n",
            "Test state 27 out of 30\n",
            "Test state 28 out of 30\n",
            "Test state 29 out of 30\n",
            "Test state 30 out of 30\n",
            "Stage 5\n",
            "Preparing gate1; Hadamard on the firt qubit\n",
            "Preparing the controlled swap gates\n",
            "Preparing measurement set for measuring the first register\n",
            "Preparing measurement set for measuring the last register\n",
            "Test state 1 out of 30\n",
            "Test state 2 out of 30\n",
            "Test state 3 out of 30\n",
            "Test state 4 out of 30\n",
            "Test state 5 out of 30\n",
            "Test state 6 out of 30\n",
            "Test state 7 out of 30\n",
            "Test state 8 out of 30\n",
            "Test state 9 out of 30\n",
            "Test state 10 out of 30\n",
            "Test state 11 out of 30\n",
            "Test state 12 out of 30\n",
            "Test state 13 out of 30\n",
            "Test state 14 out of 30\n",
            "Test state 15 out of 30\n",
            "Test state 16 out of 30\n",
            "Test state 17 out of 30\n",
            "Test state 18 out of 30\n",
            "Test state 19 out of 30\n",
            "Test state 20 out of 30\n",
            "Test state 21 out of 30\n",
            "Test state 22 out of 30\n",
            "Test state 23 out of 30\n",
            "Test state 24 out of 30\n",
            "Test state 25 out of 30\n",
            "Test state 26 out of 30\n",
            "Test state 27 out of 30\n",
            "Test state 28 out of 30\n",
            "Test state 29 out of 30\n",
            "Test state 30 out of 30\n",
            "Stage 6\n",
            "Preparing gate1; Hadamard on the firt qubit\n",
            "Preparing the controlled swap gates\n",
            "Preparing measurement set for measuring the first register\n",
            "Preparing measurement set for measuring the last register\n",
            "Test state 1 out of 30\n",
            "Test state 2 out of 30\n",
            "Test state 3 out of 30\n",
            "Test state 4 out of 30\n",
            "Test state 5 out of 30\n",
            "Test state 6 out of 30\n",
            "Test state 7 out of 30\n",
            "Test state 8 out of 30\n",
            "Test state 9 out of 30\n",
            "Test state 10 out of 30\n",
            "Test state 11 out of 30\n",
            "Test state 12 out of 30\n",
            "Test state 13 out of 30\n",
            "Test state 14 out of 30\n",
            "Test state 15 out of 30\n",
            "Test state 16 out of 30\n",
            "Test state 17 out of 30\n",
            "Test state 18 out of 30\n",
            "Test state 19 out of 30\n",
            "Test state 20 out of 30\n",
            "Test state 21 out of 30\n",
            "Test state 22 out of 30\n",
            "Test state 23 out of 30\n",
            "Test state 24 out of 30\n",
            "Test state 25 out of 30\n",
            "Test state 26 out of 30\n",
            "Test state 27 out of 30\n",
            "Test state 28 out of 30\n",
            "Test state 29 out of 30\n",
            "Test state 30 out of 30\n",
            "Stage 7\n",
            "Preparing gate1; Hadamard on the firt qubit\n",
            "Preparing the controlled swap gates\n",
            "Preparing measurement set for measuring the first register\n",
            "Preparing measurement set for measuring the last register\n",
            "Test state 1 out of 30\n",
            "Test state 2 out of 30\n",
            "Test state 3 out of 30\n",
            "Test state 4 out of 30\n",
            "Test state 5 out of 30\n",
            "Test state 6 out of 30\n",
            "Test state 7 out of 30\n",
            "Test state 8 out of 30\n",
            "Test state 9 out of 30\n",
            "Test state 10 out of 30\n",
            "Test state 11 out of 30\n",
            "Test state 12 out of 30\n",
            "Test state 13 out of 30\n",
            "Test state 14 out of 30\n",
            "Test state 15 out of 30\n",
            "Test state 16 out of 30\n",
            "Test state 17 out of 30\n",
            "Test state 18 out of 30\n",
            "Test state 19 out of 30\n",
            "Test state 20 out of 30\n",
            "Test state 21 out of 30\n",
            "Test state 22 out of 30\n",
            "Test state 23 out of 30\n",
            "Test state 24 out of 30\n",
            "Test state 25 out of 30\n",
            "Test state 26 out of 30\n",
            "Test state 27 out of 30\n",
            "Test state 28 out of 30\n",
            "Test state 29 out of 30\n",
            "Test state 30 out of 30\n",
            "Stage 8\n",
            "Preparing gate1; Hadamard on the firt qubit\n",
            "Preparing the controlled swap gates\n",
            "Preparing measurement set for measuring the first register\n",
            "Preparing measurement set for measuring the last register\n",
            "Test state 1 out of 30\n",
            "Test state 2 out of 30\n",
            "Test state 3 out of 30\n",
            "Test state 4 out of 30\n",
            "Test state 5 out of 30\n",
            "Test state 6 out of 30\n",
            "Test state 7 out of 30\n",
            "Test state 8 out of 30\n",
            "Test state 9 out of 30\n",
            "Test state 10 out of 30\n",
            "Test state 11 out of 30\n",
            "Test state 12 out of 30\n",
            "Test state 13 out of 30\n",
            "Test state 14 out of 30\n",
            "Test state 15 out of 30\n",
            "Test state 16 out of 30\n",
            "Test state 17 out of 30\n",
            "Test state 18 out of 30\n",
            "Test state 19 out of 30\n",
            "Test state 20 out of 30\n",
            "Test state 21 out of 30\n",
            "Test state 22 out of 30\n",
            "Test state 23 out of 30\n",
            "Test state 24 out of 30\n",
            "Test state 25 out of 30\n",
            "Test state 26 out of 30\n",
            "Test state 27 out of 30\n",
            "Test state 28 out of 30\n",
            "Test state 29 out of 30\n",
            "Test state 30 out of 30\n",
            "Stage 9\n",
            "Preparing gate1; Hadamard on the firt qubit\n",
            "Preparing the controlled swap gates\n",
            "Preparing measurement set for measuring the first register\n",
            "Preparing measurement set for measuring the last register\n",
            "Test state 1 out of 30\n",
            "Test state 2 out of 30\n",
            "Test state 3 out of 30\n",
            "Test state 4 out of 30\n",
            "Test state 5 out of 30\n",
            "Test state 6 out of 30\n",
            "Test state 7 out of 30\n",
            "Test state 8 out of 30\n",
            "Test state 9 out of 30\n",
            "Test state 10 out of 30\n",
            "Test state 11 out of 30\n",
            "Test state 12 out of 30\n",
            "Test state 13 out of 30\n",
            "Test state 14 out of 30\n",
            "Test state 15 out of 30\n",
            "Test state 16 out of 30\n",
            "Test state 17 out of 30\n",
            "Test state 18 out of 30\n",
            "Test state 19 out of 30\n",
            "Test state 20 out of 30\n",
            "Test state 21 out of 30\n",
            "Test state 22 out of 30\n",
            "Test state 23 out of 30\n",
            "Test state 24 out of 30\n",
            "Test state 25 out of 30\n",
            "Test state 26 out of 30\n",
            "Test state 27 out of 30\n",
            "Test state 28 out of 30\n",
            "Test state 29 out of 30\n",
            "Test state 30 out of 30\n"
          ],
          "name": "stdout"
        }
      ]
    },
    {
      "cell_type": "code",
      "metadata": {
        "id": "ptTND6-Rwq2h",
        "colab_type": "code",
        "outputId": "8d97575c-7b50-4589-8c6d-b99f15010623",
        "colab": {
          "base_uri": "https://localhost:8080/",
          "height": 34
        }
      },
      "source": [
        "sum(acclist1)/10 # Average accuracy of quantum algorithm"
      ],
      "execution_count": 0,
      "outputs": [
        {
          "output_type": "execute_result",
          "data": {
            "text/plain": [
              "0.9566666666666668"
            ]
          },
          "metadata": {
            "tags": []
          },
          "execution_count": 149
        }
      ]
    },
    {
      "cell_type": "code",
      "metadata": {
        "id": "kHyd2jA_wttU",
        "colab_type": "code",
        "outputId": "8454f671-2a1b-438d-eef1-813ee0e0b84a",
        "colab": {
          "base_uri": "https://localhost:8080/",
          "height": 34
        }
      },
      "source": [
        "sum(acclist2)/10 # Average accuracy of classical algorithm"
      ],
      "execution_count": 0,
      "outputs": [
        {
          "output_type": "execute_result",
          "data": {
            "text/plain": [
              "0.9666666666666668"
            ]
          },
          "metadata": {
            "tags": []
          },
          "execution_count": 150
        }
      ]
    },
    {
      "cell_type": "markdown",
      "metadata": {
        "id": "T1XZqPndwwVM",
        "colab_type": "text"
      },
      "source": [
        "### Separable vs entangled states"
      ]
    },
    {
      "cell_type": "code",
      "metadata": {
        "id": "gFapM8J0w1F4",
        "colab_type": "code",
        "outputId": "487e0280-afd8-41e3-c2cd-24308480f8b1",
        "colab": {
          "base_uri": "https://localhost:8080/",
          "height": 1000
        }
      },
      "source": [
        "acclist1 = [] # accuracies of quantum algorithm\n",
        "acclist2 = [] # accuracies of classical algorithm\n",
        "for av in range(10):\n",
        "  print('Stage {}'.format(av))\n",
        "  # Two qubit\n",
        "  N = 2\n",
        "  M = 5\n",
        "  TotalQubits = N + N + M + 1\n",
        "  NMeas = 10000\n",
        "\n",
        "  # Test\n",
        "  NSepT = 15\n",
        "  NEntT = 15\n",
        "  DataSepTest, DataSepTestDensity = GenSepData(NSepT, N, 0, 2)\n",
        "  Data12Test, Data12TestDensity = GenEntData(NEntT, N, 0, 1, 2)\n",
        "  DataTest = np.concatenate([DataSepTest, Data12Test], axis = 0)\n",
        "  Data1Test = DataTest[:,:DataTest.shape[1]-1]\n",
        "  YTest = DataTest[:, -1]\n",
        "\n",
        "  # Train\n",
        "  NSep = 2**(M-1)\n",
        "  NEnt = 2**(M-1)\n",
        "  DataSep, DataSepDensity = GenSepData(NSep, N, 0, 2)\n",
        "  Data12, Data12Density = GenEntData(NEnt, 2, 0, 1, 2)\n",
        "  Data = np.concatenate([DataSep, Data12], axis = 0)\n",
        "  Data1 = Data[:,:Data.shape[1]-1]\n",
        "  ans = np.zeros(((2**N) * (2**M),1 )) + 1j*np.zeros(((2**N) * (2**M),1))\n",
        "  for i in range(Data1.shape[0]):\n",
        "    temp = Data1[i].reshape(2**N, 1)\n",
        "    temp1 = np.kron(temp, binvec(i,M))\n",
        "    ans = ans + temp1\n",
        "  TrainStates = ans/np.linalg.norm(ans)\n",
        "  Results = QNN(TrainStates, Data1Test, N, M, NMeas, [2**(M-1),2**(M-1)], 3, histo = 0)\n",
        "  acclist1.append(accuracy_score(YTest, Results))\n",
        "\n",
        "  # Classical\n",
        "  DataDensity = np.concatenate([DataSepDensity, Data12Density], axis = 0)\n",
        "  DataX = DataDensity[:,:-1]\n",
        "  DataY = DataDensity[:,-1]\n",
        "  DataSplitX = np.concatenate([np.real(DataX), np.imag(DataX)], axis = 1)\n",
        "  DataSplitY = np.real(DataY)\n",
        "  NeighComp = KNeighborsClassifier(n_neighbors=3, metric = 'cosine')\n",
        "  NeighComp.fit(DataSplitX, DataSplitY)\n",
        "  # Test\n",
        "  DataTestDensity = np.concatenate([DataSepTestDensity, Data12TestDensity], axis = 0)\n",
        "  DataXTest = DataTestDensity[:,:-1]\n",
        "  DataYTest = DataTestDensity[:,-1]\n",
        "  DataSplitXTest = np.concatenate([np.real(DataXTest), np.imag(DataXTest)], axis = 1)\n",
        "  DataSplitYTest = np.real(DataYTest)\n",
        "  AnsClass = NeighComp.predict(DataSplitXTest)\n",
        "  acclist2.append(accuracy_score(DataSplitYTest, AnsClass))\n"
      ],
      "execution_count": 0,
      "outputs": [
        {
          "output_type": "stream",
          "text": [
            "Stage 0\n",
            "Preparing gate1; Hadamard on the firt qubit\n",
            "Preparing the controlled swap gates\n",
            "Preparing measurement set for measuring the first register\n",
            "Preparing measurement set for measuring the last register\n",
            "Test state 1 out of 30\n",
            "Test state 2 out of 30\n",
            "Test state 3 out of 30\n",
            "Test state 4 out of 30\n",
            "Test state 5 out of 30\n",
            "Test state 6 out of 30\n",
            "Test state 7 out of 30\n",
            "Test state 8 out of 30\n",
            "Test state 9 out of 30\n",
            "Test state 10 out of 30\n",
            "Test state 11 out of 30\n",
            "Test state 12 out of 30\n",
            "Test state 13 out of 30\n",
            "Test state 14 out of 30\n",
            "Test state 15 out of 30\n",
            "Test state 16 out of 30\n",
            "Test state 17 out of 30\n",
            "Test state 18 out of 30\n",
            "Test state 19 out of 30\n",
            "Test state 20 out of 30\n",
            "Test state 21 out of 30\n",
            "Test state 22 out of 30\n",
            "Test state 23 out of 30\n",
            "Test state 24 out of 30\n",
            "Test state 25 out of 30\n",
            "Test state 26 out of 30\n",
            "Test state 27 out of 30\n",
            "Test state 28 out of 30\n",
            "Test state 29 out of 30\n",
            "Test state 30 out of 30\n",
            "Stage 1\n",
            "Preparing gate1; Hadamard on the firt qubit\n",
            "Preparing the controlled swap gates\n",
            "Preparing measurement set for measuring the first register\n",
            "Preparing measurement set for measuring the last register\n",
            "Test state 1 out of 30\n",
            "Test state 2 out of 30\n",
            "Test state 3 out of 30\n",
            "Test state 4 out of 30\n",
            "Test state 5 out of 30\n",
            "Test state 6 out of 30\n",
            "Test state 7 out of 30\n",
            "Test state 8 out of 30\n",
            "Test state 9 out of 30\n",
            "Test state 10 out of 30\n",
            "Test state 11 out of 30\n",
            "Test state 12 out of 30\n",
            "Test state 13 out of 30\n",
            "Test state 14 out of 30\n",
            "Test state 15 out of 30\n",
            "Test state 16 out of 30\n",
            "Test state 17 out of 30\n",
            "Test state 18 out of 30\n",
            "Test state 19 out of 30\n",
            "Test state 20 out of 30\n",
            "Test state 21 out of 30\n",
            "Test state 22 out of 30\n",
            "Test state 23 out of 30\n",
            "Test state 24 out of 30\n",
            "Test state 25 out of 30\n",
            "Test state 26 out of 30\n",
            "Test state 27 out of 30\n",
            "Test state 28 out of 30\n",
            "Test state 29 out of 30\n",
            "Test state 30 out of 30\n",
            "Stage 2\n",
            "Preparing gate1; Hadamard on the firt qubit\n",
            "Preparing the controlled swap gates\n",
            "Preparing measurement set for measuring the first register\n",
            "Preparing measurement set for measuring the last register\n",
            "Test state 1 out of 30\n",
            "Test state 2 out of 30\n",
            "Test state 3 out of 30\n",
            "Test state 4 out of 30\n",
            "Test state 5 out of 30\n",
            "Test state 6 out of 30\n",
            "Test state 7 out of 30\n",
            "Test state 8 out of 30\n",
            "Test state 9 out of 30\n",
            "Test state 10 out of 30\n",
            "Test state 11 out of 30\n",
            "Test state 12 out of 30\n",
            "Test state 13 out of 30\n",
            "Test state 14 out of 30\n",
            "Test state 15 out of 30\n",
            "Test state 16 out of 30\n",
            "Test state 17 out of 30\n",
            "Test state 18 out of 30\n",
            "Test state 19 out of 30\n",
            "Test state 20 out of 30\n",
            "Test state 21 out of 30\n",
            "Test state 22 out of 30\n",
            "Test state 23 out of 30\n",
            "Test state 24 out of 30\n",
            "Test state 25 out of 30\n",
            "Test state 26 out of 30\n",
            "Test state 27 out of 30\n",
            "Test state 28 out of 30\n",
            "Test state 29 out of 30\n",
            "Test state 30 out of 30\n",
            "Stage 3\n",
            "Preparing gate1; Hadamard on the firt qubit\n",
            "Preparing the controlled swap gates\n",
            "Preparing measurement set for measuring the first register\n",
            "Preparing measurement set for measuring the last register\n",
            "Test state 1 out of 30\n",
            "Test state 2 out of 30\n",
            "Test state 3 out of 30\n",
            "Test state 4 out of 30\n",
            "Test state 5 out of 30\n",
            "Test state 6 out of 30\n",
            "Test state 7 out of 30\n",
            "Test state 8 out of 30\n",
            "Test state 9 out of 30\n",
            "Test state 10 out of 30\n",
            "Test state 11 out of 30\n",
            "Test state 12 out of 30\n",
            "Test state 13 out of 30\n",
            "Test state 14 out of 30\n",
            "Test state 15 out of 30\n",
            "Test state 16 out of 30\n",
            "Test state 17 out of 30\n",
            "Test state 18 out of 30\n",
            "Test state 19 out of 30\n",
            "Test state 20 out of 30\n",
            "Test state 21 out of 30\n",
            "Test state 22 out of 30\n",
            "Test state 23 out of 30\n",
            "Test state 24 out of 30\n",
            "Test state 25 out of 30\n",
            "Test state 26 out of 30\n",
            "Test state 27 out of 30\n",
            "Test state 28 out of 30\n",
            "Test state 29 out of 30\n",
            "Test state 30 out of 30\n",
            "Stage 4\n",
            "Preparing gate1; Hadamard on the firt qubit\n",
            "Preparing the controlled swap gates\n",
            "Preparing measurement set for measuring the first register\n",
            "Preparing measurement set for measuring the last register\n",
            "Test state 1 out of 30\n",
            "Test state 2 out of 30\n",
            "Test state 3 out of 30\n",
            "Test state 4 out of 30\n",
            "Test state 5 out of 30\n",
            "Test state 6 out of 30\n",
            "Test state 7 out of 30\n",
            "Test state 8 out of 30\n",
            "Test state 9 out of 30\n",
            "Test state 10 out of 30\n",
            "Test state 11 out of 30\n",
            "Test state 12 out of 30\n",
            "Test state 13 out of 30\n",
            "Test state 14 out of 30\n",
            "Test state 15 out of 30\n",
            "Test state 16 out of 30\n",
            "Test state 17 out of 30\n",
            "Test state 18 out of 30\n",
            "Test state 19 out of 30\n",
            "Test state 20 out of 30\n",
            "Test state 21 out of 30\n",
            "Test state 22 out of 30\n",
            "Test state 23 out of 30\n",
            "Test state 24 out of 30\n",
            "Test state 25 out of 30\n",
            "Test state 26 out of 30\n",
            "Test state 27 out of 30\n",
            "Test state 28 out of 30\n",
            "Test state 29 out of 30\n",
            "Test state 30 out of 30\n",
            "Stage 5\n",
            "Preparing gate1; Hadamard on the firt qubit\n",
            "Preparing the controlled swap gates\n",
            "Preparing measurement set for measuring the first register\n",
            "Preparing measurement set for measuring the last register\n",
            "Test state 1 out of 30\n",
            "Test state 2 out of 30\n",
            "Test state 3 out of 30\n",
            "Test state 4 out of 30\n",
            "Test state 5 out of 30\n",
            "Test state 6 out of 30\n",
            "Test state 7 out of 30\n",
            "Test state 8 out of 30\n",
            "Test state 9 out of 30\n",
            "Test state 10 out of 30\n",
            "Test state 11 out of 30\n",
            "Test state 12 out of 30\n",
            "Test state 13 out of 30\n",
            "Test state 14 out of 30\n",
            "Test state 15 out of 30\n",
            "Test state 16 out of 30\n",
            "Test state 17 out of 30\n",
            "Test state 18 out of 30\n",
            "Test state 19 out of 30\n",
            "Test state 20 out of 30\n",
            "Test state 21 out of 30\n",
            "Test state 22 out of 30\n",
            "Test state 23 out of 30\n",
            "Test state 24 out of 30\n",
            "Test state 25 out of 30\n",
            "Test state 26 out of 30\n",
            "Test state 27 out of 30\n",
            "Test state 28 out of 30\n",
            "Test state 29 out of 30\n",
            "Test state 30 out of 30\n",
            "Stage 6\n",
            "Preparing gate1; Hadamard on the firt qubit\n",
            "Preparing the controlled swap gates\n",
            "Preparing measurement set for measuring the first register\n",
            "Preparing measurement set for measuring the last register\n",
            "Test state 1 out of 30\n",
            "Test state 2 out of 30\n",
            "Test state 3 out of 30\n",
            "Test state 4 out of 30\n",
            "Test state 5 out of 30\n",
            "Test state 6 out of 30\n",
            "Test state 7 out of 30\n",
            "Test state 8 out of 30\n",
            "Test state 9 out of 30\n",
            "Test state 10 out of 30\n",
            "Test state 11 out of 30\n",
            "Test state 12 out of 30\n",
            "Test state 13 out of 30\n",
            "Test state 14 out of 30\n",
            "Test state 15 out of 30\n",
            "Test state 16 out of 30\n",
            "Test state 17 out of 30\n",
            "Test state 18 out of 30\n",
            "Test state 19 out of 30\n",
            "Test state 20 out of 30\n",
            "Test state 21 out of 30\n",
            "Test state 22 out of 30\n",
            "Test state 23 out of 30\n",
            "Test state 24 out of 30\n",
            "Test state 25 out of 30\n",
            "Test state 26 out of 30\n",
            "Test state 27 out of 30\n",
            "Test state 28 out of 30\n",
            "Test state 29 out of 30\n",
            "Test state 30 out of 30\n",
            "Stage 7\n",
            "Preparing gate1; Hadamard on the firt qubit\n",
            "Preparing the controlled swap gates\n",
            "Preparing measurement set for measuring the first register\n",
            "Preparing measurement set for measuring the last register\n",
            "Test state 1 out of 30\n",
            "Test state 2 out of 30\n",
            "Test state 3 out of 30\n",
            "Test state 4 out of 30\n",
            "Test state 5 out of 30\n",
            "Test state 6 out of 30\n",
            "Test state 7 out of 30\n",
            "Test state 8 out of 30\n",
            "Test state 9 out of 30\n",
            "Test state 10 out of 30\n",
            "Test state 11 out of 30\n",
            "Test state 12 out of 30\n",
            "Test state 13 out of 30\n",
            "Test state 14 out of 30\n",
            "Test state 15 out of 30\n",
            "Test state 16 out of 30\n",
            "Test state 17 out of 30\n",
            "Test state 18 out of 30\n",
            "Test state 19 out of 30\n",
            "Test state 20 out of 30\n",
            "Test state 21 out of 30\n",
            "Test state 22 out of 30\n",
            "Test state 23 out of 30\n",
            "Test state 24 out of 30\n",
            "Test state 25 out of 30\n",
            "Test state 26 out of 30\n",
            "Test state 27 out of 30\n",
            "Test state 28 out of 30\n",
            "Test state 29 out of 30\n",
            "Test state 30 out of 30\n",
            "Stage 8\n",
            "Preparing gate1; Hadamard on the firt qubit\n",
            "Preparing the controlled swap gates\n",
            "Preparing measurement set for measuring the first register\n",
            "Preparing measurement set for measuring the last register\n",
            "Test state 1 out of 30\n",
            "Test state 2 out of 30\n",
            "Test state 3 out of 30\n",
            "Test state 4 out of 30\n",
            "Test state 5 out of 30\n",
            "Test state 6 out of 30\n",
            "Test state 7 out of 30\n",
            "Test state 8 out of 30\n",
            "Test state 9 out of 30\n",
            "Test state 10 out of 30\n",
            "Test state 11 out of 30\n",
            "Test state 12 out of 30\n",
            "Test state 13 out of 30\n",
            "Test state 14 out of 30\n",
            "Test state 15 out of 30\n",
            "Test state 16 out of 30\n",
            "Test state 17 out of 30\n",
            "Test state 18 out of 30\n",
            "Test state 19 out of 30\n",
            "Test state 20 out of 30\n",
            "Test state 21 out of 30\n",
            "Test state 22 out of 30\n",
            "Test state 23 out of 30\n",
            "Test state 24 out of 30\n",
            "Test state 25 out of 30\n",
            "Test state 26 out of 30\n",
            "Test state 27 out of 30\n",
            "Test state 28 out of 30\n",
            "Test state 29 out of 30\n",
            "Test state 30 out of 30\n",
            "Stage 9\n",
            "Preparing gate1; Hadamard on the firt qubit\n",
            "Preparing the controlled swap gates\n",
            "Preparing measurement set for measuring the first register\n",
            "Preparing measurement set for measuring the last register\n",
            "Test state 1 out of 30\n",
            "Test state 2 out of 30\n",
            "Test state 3 out of 30\n",
            "Test state 4 out of 30\n",
            "Test state 5 out of 30\n",
            "Test state 6 out of 30\n",
            "Test state 7 out of 30\n",
            "Test state 8 out of 30\n",
            "Test state 9 out of 30\n",
            "Test state 10 out of 30\n",
            "Test state 11 out of 30\n",
            "Test state 12 out of 30\n",
            "Test state 13 out of 30\n",
            "Test state 14 out of 30\n",
            "Test state 15 out of 30\n",
            "Test state 16 out of 30\n",
            "Test state 17 out of 30\n",
            "Test state 18 out of 30\n",
            "Test state 19 out of 30\n",
            "Test state 20 out of 30\n",
            "Test state 21 out of 30\n",
            "Test state 22 out of 30\n",
            "Test state 23 out of 30\n",
            "Test state 24 out of 30\n",
            "Test state 25 out of 30\n",
            "Test state 26 out of 30\n",
            "Test state 27 out of 30\n",
            "Test state 28 out of 30\n",
            "Test state 29 out of 30\n",
            "Test state 30 out of 30\n"
          ],
          "name": "stdout"
        }
      ]
    },
    {
      "cell_type": "code",
      "metadata": {
        "id": "6QweyUpk3rFx",
        "colab_type": "code",
        "outputId": "2c9a6d22-ecd2-4e07-99c4-53980f732331",
        "colab": {
          "base_uri": "https://localhost:8080/",
          "height": 34
        }
      },
      "source": [
        "sum(acclist1)/10 # Average accuracy of quantum algorithm"
      ],
      "execution_count": 0,
      "outputs": [
        {
          "output_type": "execute_result",
          "data": {
            "text/plain": [
              "0.8066666666666666"
            ]
          },
          "metadata": {
            "tags": []
          },
          "execution_count": 152
        }
      ]
    },
    {
      "cell_type": "code",
      "metadata": {
        "id": "ElSRu0663ua6",
        "colab_type": "code",
        "outputId": "f8656bb9-a7f0-435a-a415-cb719a23fe5b",
        "colab": {
          "base_uri": "https://localhost:8080/",
          "height": 34
        }
      },
      "source": [
        "sum(acclist2)/10 # Average accuracy of classical algorithm"
      ],
      "execution_count": 0,
      "outputs": [
        {
          "output_type": "execute_result",
          "data": {
            "text/plain": [
              "0.8099999999999999"
            ]
          },
          "metadata": {
            "tags": []
          },
          "execution_count": 153
        }
      ]
    }
  ]
}