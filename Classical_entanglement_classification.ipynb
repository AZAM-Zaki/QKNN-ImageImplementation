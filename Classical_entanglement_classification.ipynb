{
  "nbformat": 4,
  "nbformat_minor": 0,
  "metadata": {
    "colab": {
      "name": "Classical entanglement classification.ipynb",
      "provenance": [],
      "collapsed_sections": [],
      "toc_visible": true,
      "machine_shape": "hm"
    },
    "kernelspec": {
      "display_name": "Python 3",
      "name": "python3"
    }
  },
  "cells": [
    {
      "cell_type": "markdown",
      "metadata": {
        "id": "1OY-p2txGHUj"
      },
      "source": [
        "#Classical kNN for Entanglement Classification"
      ]
    },
    {
      "cell_type": "markdown",
      "metadata": {
        "id": "YLUA-P-JPNHz"
      },
      "source": [
        "In this notebook, we one can replicate the simulation results of using kNN for entanglement classification that is provided as part of the work https://arxiv.org/abs/2003.09187. We use the kNN functionality in the scikit learn library with a custom metric, which is the fidelity. To use the custom metric, upload the two files accompanying this notebook, \"cython_fidelity.pyx\" and \"setup.py\" to the runtime and run the cell below."
      ]
    },
    {
      "cell_type": "code",
      "metadata": {
        "colab": {
          "base_uri": "https://localhost:8080/"
        },
        "id": "vGF634MLPYI7",
        "outputId": "e2ccd275-e072-447c-ae62-bc7834cf090e"
      },
      "source": [
        "!python setup.py build_ext --inplace"
      ],
      "execution_count": null,
      "outputs": [
        {
          "output_type": "stream",
          "text": [
            "Compiling cython_fidelity.pyx because it changed.\n",
            "[1/1] Cythonizing cython_fidelity.pyx\n",
            "/usr/local/lib/python3.7/dist-packages/Cython/Compiler/Main.py:369: FutureWarning: Cython directive 'language_level' not set, using 2 for now (Py2). This will change in a later release! File: /content/cython_fidelity.pyx\n",
            "  tree = Parsing.p_module(s, pxd, full_module_name)\n",
            "warning: cython_fidelity.pyx:10:15: Index should be typed for more efficient access\n",
            "running build_ext\n",
            "building 'cython_fidelity' extension\n",
            "x86_64-linux-gnu-gcc -pthread -Wno-unused-result -Wsign-compare -DNDEBUG -g -fwrapv -O2 -Wall -g -fdebug-prefix-map=/build/python3.7-OGiuun/python3.7-3.7.10=. -fstack-protector-strong -Wformat -Werror=format-security -g -fdebug-prefix-map=/build/python3.7-OGiuun/python3.7-3.7.10=. -fstack-protector-strong -Wformat -Werror=format-security -Wdate-time -D_FORTIFY_SOURCE=2 -fPIC -I/usr/include/python3.7m -c cython_fidelity.c -o build/temp.linux-x86_64-3.7/cython_fidelity.o\n",
            "x86_64-linux-gnu-gcc -pthread -shared -Wl,-O1 -Wl,-Bsymbolic-functions -Wl,-Bsymbolic-functions -Wl,-z,relro -Wl,-Bsymbolic-functions -Wl,-z,relro -g -fdebug-prefix-map=/build/python3.7-OGiuun/python3.7-3.7.10=. -fstack-protector-strong -Wformat -Werror=format-security -Wdate-time -D_FORTIFY_SOURCE=2 build/temp.linux-x86_64-3.7/cython_fidelity.o -o /content/cython_fidelity.cpython-37m-x86_64-linux-gnu.so\n"
          ],
          "name": "stdout"
        }
      ]
    },
    {
      "cell_type": "markdown",
      "metadata": {
        "id": "CKPHMc2IOWU_"
      },
      "source": [
        "# Importing packages"
      ]
    },
    {
      "cell_type": "code",
      "metadata": {
        "id": "7vFsYYo4fwo-"
      },
      "source": [
        "import numpy as np\n",
        "import math\n",
        "import random\n",
        "from sklearn.metrics import accuracy_score\n",
        "from sklearn.metrics import confusion_matrix\n",
        "from sklearn.neighbors import KNeighborsClassifier\n",
        "from cython_fidelity import cython_fidelity"
      ],
      "execution_count": null,
      "outputs": []
    },
    {
      "cell_type": "markdown",
      "metadata": {
        "id": "IkKs4OrBGc7D"
      },
      "source": [
        "# Required functions\n",
        "Here we define the functions that are necessary for our simulations"
      ]
    },
    {
      "cell_type": "code",
      "metadata": {
        "id": "lfzPVnKa86Ku"
      },
      "source": [
        "#Return a single qubit rotation matrix\n",
        "\n",
        "# 1. Theta: Angle of rotation\n",
        "\n",
        "def RotMatCreate(Theta):\n",
        "  \n",
        "  return(np.matrix([[math.cos(Theta), (-1 * math.sin(Theta))], [math.sin(Theta), math.cos(Theta)]]))"
      ],
      "execution_count": null,
      "outputs": []
    },
    {
      "cell_type": "code",
      "metadata": {
        "id": "pv-7XHzg86p8"
      },
      "source": [
        "#Return matrix that rotates about the z axis in Bloch sphere\n",
        "\n",
        "# 1. Theta: Angle of rotation\n",
        "\n",
        "def ZRot(Theta):\n",
        "  \n",
        "  return(np.matrix([[math.cos(Theta/2) - (1j * math.sin(Theta/2)), 0],[0, math.cos(Theta/2) + (1j * math.sin(Theta/2))]]))"
      ],
      "execution_count": null,
      "outputs": []
    },
    {
      "cell_type": "code",
      "metadata": {
        "id": "CDTxZmF11mXs"
      },
      "source": [
        "# This function generates separable pure states.\n",
        "\n",
        "# 1. QubitNo: Number of qubits\n",
        "\n",
        "def GenSepState(QubitNo):\n",
        "  \n",
        "  FinalState = np.matrix([[1]])\n",
        "    \n",
        "  for i in range(QubitNo):\n",
        "    FinalState = np.kron(FinalState,(2*np.random.random([2,1])-1 + 2j*np.random.random([2,1])-1))    \n",
        "            \n",
        "  FinalState = FinalState/np.linalg.norm(FinalState)\n",
        "  return FinalState"
      ],
      "execution_count": null,
      "outputs": []
    },
    {
      "cell_type": "code",
      "metadata": {
        "id": "XBz4TWQbVHXH"
      },
      "source": [
        "# This function generates entangled pure states.\n",
        "\n",
        "# 1. QubitNo: Number of qubits.\n",
        "# 2. IsMaxEnt: Enter 1 if the state should be maximally entangled.\n",
        "\n",
        "def GenEntState(QubitNo, IsMaxEnt):\n",
        "  \n",
        "  if IsMaxEnt == 1:\n",
        "        \n",
        "    FinalState = np.zeros([2**QubitNo, 1])\n",
        "    FinalState[0,0] = 1\n",
        "    FinalState[-1,0] = 1\n",
        "    \n",
        "    RotMat = np.matrix([[1]])\n",
        "    Thetas = (2*math.pi) * np.random.random(QubitNo)\n",
        "    Phis = (math.pi) * np.random.random(QubitNo)\n",
        "    \n",
        "    Ry = [RotMatCreate(x/2) for x in Thetas]\n",
        "    Rz = [ZRot(y) for y in Phis]\n",
        "    MatY = np.matrix([[1]])\n",
        "    MatZ = np.matrix([[1]])\n",
        "    \n",
        "    for i in range(QubitNo):\n",
        "      MatY = np.kron(MatY, Ry[i])\n",
        "      MatZ = np.kron(MatZ, Rz[i])\n",
        "\n",
        "    FinalState = np.matmul(MatZ,np.matmul(MatY,FinalState))\n",
        "\n",
        "  else:\n",
        "        \n",
        "    Re = (2 * np.random.random([2**QubitNo,1])) - 1 \n",
        "    Im = (2 * np.random.random([2**QubitNo,1])) - 1\n",
        "    FinalState = Re + 1j*Im\n",
        "  \n",
        "        \n",
        "  FinalState = FinalState/np.linalg.norm(FinalState)\n",
        "  return(FinalState)"
      ],
      "execution_count": null,
      "outputs": []
    },
    {
      "cell_type": "code",
      "metadata": {
        "id": "uLioq6Noz7u5"
      },
      "source": [
        "#Generate NSep separable states\n",
        "\n",
        "# 1. NSep: Number of separable states to be generated. \n",
        "# 2. QubitNo: Number of qubits\n",
        "# 3. Label: The label attached to the states for classification purposes.\n",
        "\n",
        "def GenSepData(NSep, QubitNo, Label):\n",
        "  SepData = np.zeros([NSep, 2**QubitNo]) + 1j*np.zeros([NSep, 2**QubitNo])\n",
        "  for i in range(NSep):\n",
        "    temp = GenSepState(QubitNo)\n",
        "    SepData[i,:] = temp.T\n",
        "  SepData = np.concatenate([SepData, Label*np.ones((NSep,1))], axis=1)\n",
        "  return SepData"
      ],
      "execution_count": null,
      "outputs": []
    },
    {
      "cell_type": "code",
      "metadata": {
        "id": "IU59420LxYdv"
      },
      "source": [
        "#Generate 2 entangled states among 3 qubits.\n",
        "\n",
        "# 1. QubitsToEntangle: 12 to entangle first 2 qubits\n",
        "#                      23 to entangle last 2 qubits\n",
        "#                      13 to entangle first and last qubits\n",
        "\n",
        "def GenEntState2(QubitsToEntangle):\n",
        "  if QubitsToEntangle == 12:\n",
        "    return np.kron(GenEntState(2, 0), GenSepState(1)).T\n",
        "\n",
        "  if QubitsToEntangle == 23:\n",
        "    return np.kron(GenSepState(1), GenEntState(2, 0)).T\n",
        "\n",
        "  if QubitsToEntangle == 13:\n",
        "    temp = np.kron(GenSepState(1), GenEntState(2, 0))\n",
        "    temp = np.reshape(np.array(temp.T), (2,2,2))\n",
        "    temp = np.ndarray.transpose(temp, [1,0,2])\n",
        "    temp = np.matrix(np.reshape(temp, (1,8)))\n",
        "    return temp "
      ],
      "execution_count": null,
      "outputs": []
    },
    {
      "cell_type": "code",
      "metadata": {
        "id": "DD79sjP_cH97"
      },
      "source": [
        "# Generate and return NEnt number of entangled states. \n",
        "# These states would be fully entangled, that is, no bipartition of the qubits would result in two separable states.\n",
        "\n",
        "# 1. NEnt: Number of states to be generated.\n",
        "# 2. QubitNo: Number of qubits.\n",
        "# 3. IsMaxEnt: Enter 1 if the states should be maximally entangled.\n",
        "# 4. Label: The label attached to the states for classification purposes.\n",
        "\n",
        "def GenEntData(NEnt, QubitNo, IsMaxEnt, Label):\n",
        "  EntData = np.zeros([NEnt, 2**QubitNo]) + 1j*np.zeros([NEnt, 2**QubitNo]) \n",
        "    \n",
        "  for i in range(NEnt):\n",
        "    temp = GenEntState(QubitNo, IsMaxEnt)\n",
        "    EntData[i,:] = temp.T\n",
        "  EntData = np.concatenate([EntData, Label*np.ones((NEnt,1))], axis=1)\n",
        "  return EntData"
      ],
      "execution_count": null,
      "outputs": []
    },
    {
      "cell_type": "code",
      "metadata": {
        "id": "5I7kJmLO6Aa-"
      },
      "source": [
        "# This function can generate a dataset of entangled states.\n",
        "\n",
        "# 1. N: Number of states to be generated.\n",
        "# 2. QubitsToEntangle: 12 to entangle first 2 qubits\n",
        "#                      23 to entangle last 2 qubits\n",
        "#                      13 to entangle first and last qubits\n",
        "# 3. Label: A label for the entangled states. This label helps while providing the data to the KNN model. It can be any integer.\n",
        "\n",
        "def GenMultiEntData(N, QubitsToEntangle, Label):\n",
        "  Data = np.zeros([N, 8]) + 1j*np.zeros([N, 8])\n",
        "  for i in range(N):\n",
        "    Data[i,:] = GenEntState2(QubitsToEntangle)\n",
        "  Data = np.concatenate([Data, Label*np.ones((N,1))], axis=1)\n",
        "  return Data"
      ],
      "execution_count": null,
      "outputs": []
    },
    {
      "cell_type": "markdown",
      "metadata": {
        "id": "4lTXn8vlWWT4"
      },
      "source": [
        "# Testing\n",
        "In this section, you may tweak the parameters and have a test run of the simulations. \n"
      ]
    },
    {
      "cell_type": "markdown",
      "metadata": {
        "id": "0_XDf2mVarPm"
      },
      "source": [
        "## Classical KNN"
      ]
    },
    {
      "cell_type": "markdown",
      "metadata": {
        "id": "c-35ZkdiEBVL"
      },
      "source": [
        "Here we have a test run of the classical kNN algorithm where the classification is done between separable vs entangled states with $100000$ states in each class."
      ]
    },
    {
      "cell_type": "code",
      "metadata": {
        "id": "IOISrALQHEWD",
        "colab": {
          "base_uri": "https://localhost:8080/"
        },
        "outputId": "f8a49c9d-8634-4e65-af36-56a450ba8c71"
      },
      "source": [
        "NSep = 100000\n",
        "NEnt = 100000\n",
        "n = 2\n",
        "\n",
        "DataSep = GenSepData(NSep, n, 0)\n",
        "Data12 = GenEntData(NEnt, n, 0, 1)\n",
        "Data = np.concatenate([DataSep, Data12], axis = 0)\n",
        "\n",
        "np.random.shuffle(Data)\n",
        "\n",
        "DataX = Data[:,:-1]\n",
        "DataY = Data[:,-1]\n",
        "proportion = 400\n",
        "DataSplitX = DataX\n",
        "DataSplitY = np.real(DataY)\n",
        "DataSplitX = np.concatenate([np.real(DataSplitX), np.imag(DataSplitX)], axis = 1)\n",
        "XTrain, YTrain, XTest, YTest = DataSplitX[:-int((NSep+NEnt)/proportion)], DataSplitY[:-int((NSep+NEnt)/proportion)], DataSplitX[-int((NSep+NEnt)/proportion):], DataSplitY[-int((NSep+NEnt)/proportion):]\n",
        "NeighComp = KNeighborsClassifier(n_neighbors=3, metric = cython_fidelity)\n",
        "NeighComp.fit(XTrain, YTrain)\n",
        "Ans = NeighComp.predict(XTest)\n",
        "print(\"Accuracy = \",accuracy_score(YTest, Ans))\n",
        "confusion_matrix(YTest, Ans)\n"
      ],
      "execution_count": null,
      "outputs": [
        {
          "output_type": "stream",
          "text": [
            "Accuracy =  0.984\n"
          ],
          "name": "stdout"
        },
        {
          "output_type": "execute_result",
          "data": {
            "text/plain": [
              "array([[250,   0],\n",
              "       [  8, 242]])"
            ]
          },
          "metadata": {
            "tags": []
          },
          "execution_count": 13
        }
      ]
    },
    {
      "cell_type": "markdown",
      "metadata": {
        "id": "nsTojwuUGji4"
      },
      "source": [
        "#### 2 qubit with maximally entangled states"
      ]
    },
    {
      "cell_type": "code",
      "metadata": {
        "id": "Z8yM3nGmGrtJ",
        "colab": {
          "base_uri": "https://localhost:8080/"
        },
        "outputId": "94f3c784-935e-43c4-87c2-7b73d533aafb"
      },
      "source": [
        "NSep = 100000\n",
        "NEnt = 100000\n",
        "n = 2\n",
        "\n",
        "DataSep = GenSepData(NSep, n, 0)\n",
        "Data12 = GenEntData(NEnt, n, 1, 1)\n",
        "Data = np.concatenate([DataSep, Data12], axis = 0)\n",
        "\n",
        "np.random.shuffle(Data)\n",
        "\n",
        "DataX = Data[:,:-1]\n",
        "DataY = Data[:,-1]\n",
        "proportion = 400\n",
        "DataSplitX = DataX\n",
        "DataSplitY = np.real(DataY)\n",
        "DataSplitX = np.concatenate([np.real(DataSplitX), np.imag(DataSplitX)], axis = 1)\n",
        "XTrain, YTrain, XTest, YTest = DataSplitX[:-int((NSep+NEnt)/proportion)], DataSplitY[:-int((NSep+NEnt)/proportion)], DataSplitX[-int((NSep+NEnt)/proportion):], DataSplitY[-int((NSep+NEnt)/proportion):]\n",
        "NeighComp = KNeighborsClassifier(n_neighbors=3, metric = cython_fidelity)\n",
        "NeighComp.fit(XTrain, YTrain)\n",
        "Ans = NeighComp.predict(XTest)\n",
        "print(\"Accuracy = \",accuracy_score(YTest, Ans))\n",
        "confusion_matrix(YTest, Ans)\n"
      ],
      "execution_count": null,
      "outputs": [
        {
          "output_type": "stream",
          "text": [
            "Accuracy =  1.0\n"
          ],
          "name": "stdout"
        },
        {
          "output_type": "execute_result",
          "data": {
            "text/plain": [
              "array([[247,   0],\n",
              "       [  0, 253]])"
            ]
          },
          "metadata": {
            "tags": []
          },
          "execution_count": 14
        }
      ]
    },
    {
      "cell_type": "markdown",
      "metadata": {
        "id": "3aAsDcpMLaNY"
      },
      "source": [
        "### 3 qubit"
      ]
    },
    {
      "cell_type": "code",
      "metadata": {
        "id": "v5B81GgOLgiH",
        "colab": {
          "base_uri": "https://localhost:8080/"
        },
        "outputId": "4240f057-70f5-4add-f1a9-bfd3d6b5d0d9"
      },
      "source": [
        "N = 100000\n",
        "DataSep = GenSepData(N, 3, 0)\n",
        "Data12 = GenMultiEntData(N, 12, 12)\n",
        "Data23 = GenMultiEntData(N, 23, 23)\n",
        "Data13 = GenMultiEntData(N, 13, 13)\n",
        "Data123 = GenEntData(N, 3, 0, 123)\n",
        "\n",
        "Data = np.concatenate([DataSep, Data12, Data23, Data13, Data123], axis = 0)\n",
        "np.random.shuffle(Data)\n",
        "\n",
        "DataX = Data[:,:-1]\n",
        "DataY = Data[:,-1]\n",
        "proportion = 1000\n",
        "DataSplitX = DataX\n",
        "DataSplitY = np.real(DataY)\n",
        "DataSplitX = np.concatenate([np.real(DataSplitX), np.imag(DataSplitX)], axis = 1)\n",
        "XTrain, YTrain, XTest, YTest = DataSplitX[:-int((N * 5)/proportion)], DataSplitY[:-int((N * 5)/proportion)], DataSplitX[-int((N * 5)/proportion):], DataSplitY[-int((N * 5)/proportion):]\n",
        "NeighComp = KNeighborsClassifier(n_neighbors=10, metric = cython_fidelity)\n",
        "NeighComp.fit(XTrain, YTrain)\n",
        "Ans = NeighComp.predict(XTest)\n",
        "print(\"Accuracy = \",accuracy_score(YTest, Ans))\n",
        "confusion_matrix(YTest, Ans)\n"
      ],
      "execution_count": null,
      "outputs": [
        {
          "output_type": "stream",
          "text": [
            "Accuracy =  0.892\n"
          ],
          "name": "stdout"
        },
        {
          "output_type": "execute_result",
          "data": {
            "text/plain": [
              "array([[103,   0,   0,   0,   0],\n",
              "       [  6,  87,   0,   0,   0],\n",
              "       [  6,   2,  89,   1,   0],\n",
              "       [  8,   1,   1,  85,   0],\n",
              "       [  0,   7,  11,  11,  82]])"
            ]
          },
          "metadata": {
            "tags": []
          },
          "execution_count": 15
        }
      ]
    }
  ]
}